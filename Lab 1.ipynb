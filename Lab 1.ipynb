{
 "cells": [
  {
   "cell_type": "markdown",
   "metadata": {},
   "source": [
    "# Laboratorio 1\n",
    "\n",
    "**Andres Chaparro - 202111146** \n",
    "\n",
    "**Juan Esteban Lopez Ulloa - 202021417**\n",
    "\n",
    "**Juan Diego Lozano Guerrero - 202122869**\n",
    "\n"
   ]
  },
  {
   "cell_type": "markdown",
   "metadata": {},
   "source": [
    "#"
   ]
  },
  {
   "cell_type": "code",
   "execution_count": 11,
   "metadata": {},
   "outputs": [],
   "source": [
    "import numpy as np\n",
    "import pandas as pd\n",
    "\n",
    "from joblib import dump, load\n",
    "\n",
    "import matplotlib.pyplot as plt\n",
    "import seaborn as sns\n",
    "\n",
    "from sklearn.model_selection import train_test_split\n",
    "from sklearn.linear_model import LinearRegression\n",
    "from sklearn.pipeline import Pipeline\n",
    "from sklearn.compose import ColumnTransformer\n",
    "from sklearn.preprocessing import StandardScaler\n",
    "from sklearn.preprocessing import PolynomialFeatures\n",
    "from sklearn.metrics import mean_absolute_error, mean_squared_error, r2_score\n",
    "\n",
    "import scipy.stats as stats"
   ]
  },
  {
   "cell_type": "markdown",
   "metadata": {},
   "source": [
    "# 1. Carga de datos (csv)\n",
    "Se cargan la base de datos (CSV) para trabajar con estos"
   ]
  },
  {
   "cell_type": "code",
   "execution_count": 12,
   "metadata": {},
   "outputs": [
    {
     "name": "stdout",
     "output_type": "stream",
     "text": [
      "(1000, 17)\n",
      "(4000, 18)\n"
     ]
    }
   ],
   "source": [
    "# Cargar los datos de los archivos CSV\n",
    "direccionValidation = 'validation_data.csv'\n",
    "direccionTrain = 'train_data.csv'\n",
    "validation_data = pd.read_csv(direccionValidation)\n",
    "train_data_original = pd.read_csv(direccionTrain)\n",
    "\n",
    "print(validation_data.shape)\n",
    "print(train_data_original.shape)"
   ]
  },
  {
   "cell_type": "code",
   "execution_count": 13,
   "metadata": {},
   "outputs": [
    {
     "data": {
      "text/html": [
       "<div>\n",
       "<style scoped>\n",
       "    .dataframe tbody tr th:only-of-type {\n",
       "        vertical-align: middle;\n",
       "    }\n",
       "\n",
       "    .dataframe tbody tr th {\n",
       "        vertical-align: top;\n",
       "    }\n",
       "\n",
       "    .dataframe thead th {\n",
       "        text-align: right;\n",
       "    }\n",
       "</style>\n",
       "<table border=\"1\" class=\"dataframe\">\n",
       "  <thead>\n",
       "    <tr style=\"text-align: right;\">\n",
       "      <th></th>\n",
       "      <th>ra</th>\n",
       "      <th>colv</th>\n",
       "      <th>i</th>\n",
       "      <th>rowv</th>\n",
       "      <th>class</th>\n",
       "      <th>dec</th>\n",
       "      <th>score</th>\n",
       "      <th>camcol</th>\n",
       "      <th>field</th>\n",
       "      <th>clean</th>\n",
       "      <th>r</th>\n",
       "      <th>z</th>\n",
       "      <th>g</th>\n",
       "      <th>run</th>\n",
       "      <th>objid</th>\n",
       "      <th>u</th>\n",
       "      <th>mjd</th>\n",
       "    </tr>\n",
       "  </thead>\n",
       "  <tbody>\n",
       "    <tr>\n",
       "      <th>0</th>\n",
       "      <td>190.129408</td>\n",
       "      <td>0.000187</td>\n",
       "      <td>17.04507</td>\n",
       "      <td>0.000731</td>\n",
       "      <td>STAR</td>\n",
       "      <td>0.740488</td>\n",
       "      <td>0.822898</td>\n",
       "      <td>5</td>\n",
       "      <td>496</td>\n",
       "      <td>1</td>\n",
       "      <td>17.23757</td>\n",
       "      <td>16.98653</td>\n",
       "      <td>17.72796</td>\n",
       "      <td>756</td>\n",
       "      <td>1237648722308890798</td>\n",
       "      <td>18.84865</td>\n",
       "      <td>54567</td>\n",
       "    </tr>\n",
       "    <tr>\n",
       "      <th>1</th>\n",
       "      <td>126.739160</td>\n",
       "      <td>-0.001844</td>\n",
       "      <td>17.87246</td>\n",
       "      <td>-0.000979</td>\n",
       "      <td>STAR</td>\n",
       "      <td>-0.982894</td>\n",
       "      <td>0.868712</td>\n",
       "      <td>1</td>\n",
       "      <td>73</td>\n",
       "      <td>1</td>\n",
       "      <td>17.96179</td>\n",
       "      <td>17.83893</td>\n",
       "      <td>18.27308</td>\n",
       "      <td>756</td>\n",
       "      <td>1237648720133685722</td>\n",
       "      <td>19.34957</td>\n",
       "      <td>53083</td>\n",
       "    </tr>\n",
       "    <tr>\n",
       "      <th>2</th>\n",
       "      <td>162.692083</td>\n",
       "      <td>-0.004810</td>\n",
       "      <td>16.20404</td>\n",
       "      <td>-0.004358</td>\n",
       "      <td>GALAXY</td>\n",
       "      <td>1.068587</td>\n",
       "      <td>0.830950</td>\n",
       "      <td>6</td>\n",
       "      <td>313</td>\n",
       "      <td>0</td>\n",
       "      <td>16.55942</td>\n",
       "      <td>15.94029</td>\n",
       "      <td>17.21567</td>\n",
       "      <td>756</td>\n",
       "      <td>1237648722833768573</td>\n",
       "      <td>18.64485</td>\n",
       "      <td>51909</td>\n",
       "    </tr>\n",
       "    <tr>\n",
       "      <th>3</th>\n",
       "      <td>190.181702</td>\n",
       "      <td>-0.012342</td>\n",
       "      <td>17.48020</td>\n",
       "      <td>-0.002584</td>\n",
       "      <td>GALAXY</td>\n",
       "      <td>0.797830</td>\n",
       "      <td>0.833386</td>\n",
       "      <td>5</td>\n",
       "      <td>497</td>\n",
       "      <td>0</td>\n",
       "      <td>17.69294</td>\n",
       "      <td>17.30092</td>\n",
       "      <td>18.12268</td>\n",
       "      <td>756</td>\n",
       "      <td>1237648722308956300</td>\n",
       "      <td>19.25978</td>\n",
       "      <td>51941</td>\n",
       "    </tr>\n",
       "    <tr>\n",
       "      <th>4</th>\n",
       "      <td>225.414989</td>\n",
       "      <td>-0.000250</td>\n",
       "      <td>17.81908</td>\n",
       "      <td>-0.000397</td>\n",
       "      <td>STAR</td>\n",
       "      <td>0.878768</td>\n",
       "      <td>0.881142</td>\n",
       "      <td>6</td>\n",
       "      <td>547</td>\n",
       "      <td>1</td>\n",
       "      <td>17.89974</td>\n",
       "      <td>17.79936</td>\n",
       "      <td>18.12826</td>\n",
       "      <td>752</td>\n",
       "      <td>1237648705669234734</td>\n",
       "      <td>19.39298</td>\n",
       "      <td>51990</td>\n",
       "    </tr>\n",
       "  </tbody>\n",
       "</table>\n",
       "</div>"
      ],
      "text/plain": [
       "           ra      colv         i      rowv   class       dec     score  \\\n",
       "0  190.129408  0.000187  17.04507  0.000731    STAR  0.740488  0.822898   \n",
       "1  126.739160 -0.001844  17.87246 -0.000979    STAR -0.982894  0.868712   \n",
       "2  162.692083 -0.004810  16.20404 -0.004358  GALAXY  1.068587  0.830950   \n",
       "3  190.181702 -0.012342  17.48020 -0.002584  GALAXY  0.797830  0.833386   \n",
       "4  225.414989 -0.000250  17.81908 -0.000397    STAR  0.878768  0.881142   \n",
       "\n",
       "   camcol  field  clean         r         z         g  run  \\\n",
       "0       5    496      1  17.23757  16.98653  17.72796  756   \n",
       "1       1     73      1  17.96179  17.83893  18.27308  756   \n",
       "2       6    313      0  16.55942  15.94029  17.21567  756   \n",
       "3       5    497      0  17.69294  17.30092  18.12268  756   \n",
       "4       6    547      1  17.89974  17.79936  18.12826  752   \n",
       "\n",
       "                 objid         u    mjd  \n",
       "0  1237648722308890798  18.84865  54567  \n",
       "1  1237648720133685722  19.34957  53083  \n",
       "2  1237648722833768573  18.64485  51909  \n",
       "3  1237648722308956300  19.25978  51941  \n",
       "4  1237648705669234734  19.39298  51990  "
      ]
     },
     "execution_count": 13,
     "metadata": {},
     "output_type": "execute_result"
    }
   ],
   "source": [
    "validation_data.head()"
   ]
  },
  {
   "cell_type": "code",
   "execution_count": 14,
   "metadata": {},
   "outputs": [
    {
     "data": {
      "text/html": [
       "<div>\n",
       "<style scoped>\n",
       "    .dataframe tbody tr th:only-of-type {\n",
       "        vertical-align: middle;\n",
       "    }\n",
       "\n",
       "    .dataframe tbody tr th {\n",
       "        vertical-align: top;\n",
       "    }\n",
       "\n",
       "    .dataframe thead th {\n",
       "        text-align: right;\n",
       "    }\n",
       "</style>\n",
       "<table border=\"1\" class=\"dataframe\">\n",
       "  <thead>\n",
       "    <tr style=\"text-align: right;\">\n",
       "      <th></th>\n",
       "      <th>objid</th>\n",
       "      <th>ra</th>\n",
       "      <th>dec</th>\n",
       "      <th>u</th>\n",
       "      <th>g</th>\n",
       "      <th>r</th>\n",
       "      <th>i</th>\n",
       "      <th>z</th>\n",
       "      <th>run</th>\n",
       "      <th>camcol</th>\n",
       "      <th>field</th>\n",
       "      <th>score</th>\n",
       "      <th>clean</th>\n",
       "      <th>class</th>\n",
       "      <th>redshift</th>\n",
       "      <th>mjd</th>\n",
       "      <th>rowv</th>\n",
       "      <th>colv</th>\n",
       "    </tr>\n",
       "  </thead>\n",
       "  <tbody>\n",
       "    <tr>\n",
       "      <th>0</th>\n",
       "      <td>1237648722306924571</td>\n",
       "      <td>185.574486</td>\n",
       "      <td>0.701402</td>\n",
       "      <td>19.11034</td>\n",
       "      <td>17.62099</td>\n",
       "      <td>17.03464</td>\n",
       "      <td>16.82993</td>\n",
       "      <td>16.71711</td>\n",
       "      <td>756</td>\n",
       "      <td>5</td>\n",
       "      <td>466</td>\n",
       "      <td>0.864145</td>\n",
       "      <td>1</td>\n",
       "      <td>STAR</td>\n",
       "      <td>8.780529e-05</td>\n",
       "      <td>54140</td>\n",
       "      <td>0.002418</td>\n",
       "      <td>0.001363</td>\n",
       "    </tr>\n",
       "    <tr>\n",
       "      <th>1</th>\n",
       "      <td>1237648720167436418</td>\n",
       "      <td>203.801841</td>\n",
       "      <td>-0.853906</td>\n",
       "      <td>18.90957</td>\n",
       "      <td>17.62940</td>\n",
       "      <td>17.01465</td>\n",
       "      <td>16.62059</td>\n",
       "      <td>16.35239</td>\n",
       "      <td>756</td>\n",
       "      <td>1</td>\n",
       "      <td>588</td>\n",
       "      <td>0.816541</td>\n",
       "      <td>1</td>\n",
       "      <td>GALAXY</td>\n",
       "      <td>8.619995e-02</td>\n",
       "      <td>51955</td>\n",
       "      <td>0.008650</td>\n",
       "      <td>0.007056</td>\n",
       "    </tr>\n",
       "    <tr>\n",
       "      <th>2</th>\n",
       "      <td>1237648720685105352</td>\n",
       "      <td>160.034264</td>\n",
       "      <td>-0.421626</td>\n",
       "      <td>19.26340</td>\n",
       "      <td>17.67693</td>\n",
       "      <td>16.82551</td>\n",
       "      <td>16.42307</td>\n",
       "      <td>16.13864</td>\n",
       "      <td>756</td>\n",
       "      <td>2</td>\n",
       "      <td>295</td>\n",
       "      <td>0.870381</td>\n",
       "      <td>1</td>\n",
       "      <td>GALAXY</td>\n",
       "      <td>1.330486e-01</td>\n",
       "      <td>51913</td>\n",
       "      <td>0.003938</td>\n",
       "      <td>-0.002028</td>\n",
       "    </tr>\n",
       "    <tr>\n",
       "      <th>3</th>\n",
       "      <td>1237648703510937836</td>\n",
       "      <td>200.807373</td>\n",
       "      <td>-0.682024</td>\n",
       "      <td>18.82022</td>\n",
       "      <td>17.77765</td>\n",
       "      <td>17.38575</td>\n",
       "      <td>17.11128</td>\n",
       "      <td>16.93540</td>\n",
       "      <td>752</td>\n",
       "      <td>2</td>\n",
       "      <td>382</td>\n",
       "      <td>0.867801</td>\n",
       "      <td>1</td>\n",
       "      <td>GALAXY</td>\n",
       "      <td>8.636355e-02</td>\n",
       "      <td>51959</td>\n",
       "      <td>0.001839</td>\n",
       "      <td>0.001160</td>\n",
       "    </tr>\n",
       "    <tr>\n",
       "      <th>4</th>\n",
       "      <td>1237648720161275992</td>\n",
       "      <td>189.792404</td>\n",
       "      <td>-1.001480</td>\n",
       "      <td>18.91391</td>\n",
       "      <td>19.05355</td>\n",
       "      <td>19.46278</td>\n",
       "      <td>19.75660</td>\n",
       "      <td>20.09613</td>\n",
       "      <td>756</td>\n",
       "      <td>1</td>\n",
       "      <td>494</td>\n",
       "      <td>0.833824</td>\n",
       "      <td>1</td>\n",
       "      <td>STAR</td>\n",
       "      <td>-4.090000e-08</td>\n",
       "      <td>54562</td>\n",
       "      <td>0.001929</td>\n",
       "      <td>-0.000465</td>\n",
       "    </tr>\n",
       "  </tbody>\n",
       "</table>\n",
       "</div>"
      ],
      "text/plain": [
       "                 objid          ra       dec         u         g         r  \\\n",
       "0  1237648722306924571  185.574486  0.701402  19.11034  17.62099  17.03464   \n",
       "1  1237648720167436418  203.801841 -0.853906  18.90957  17.62940  17.01465   \n",
       "2  1237648720685105352  160.034264 -0.421626  19.26340  17.67693  16.82551   \n",
       "3  1237648703510937836  200.807373 -0.682024  18.82022  17.77765  17.38575   \n",
       "4  1237648720161275992  189.792404 -1.001480  18.91391  19.05355  19.46278   \n",
       "\n",
       "          i         z  run  camcol  field     score  clean   class  \\\n",
       "0  16.82993  16.71711  756       5    466  0.864145      1    STAR   \n",
       "1  16.62059  16.35239  756       1    588  0.816541      1  GALAXY   \n",
       "2  16.42307  16.13864  756       2    295  0.870381      1  GALAXY   \n",
       "3  17.11128  16.93540  752       2    382  0.867801      1  GALAXY   \n",
       "4  19.75660  20.09613  756       1    494  0.833824      1    STAR   \n",
       "\n",
       "       redshift    mjd      rowv      colv  \n",
       "0  8.780529e-05  54140  0.002418  0.001363  \n",
       "1  8.619995e-02  51955  0.008650  0.007056  \n",
       "2  1.330486e-01  51913  0.003938 -0.002028  \n",
       "3  8.636355e-02  51959  0.001839  0.001160  \n",
       "4 -4.090000e-08  54562  0.001929 -0.000465  "
      ]
     },
     "execution_count": 14,
     "metadata": {},
     "output_type": "execute_result"
    }
   ],
   "source": [
    "train_data_original.head()"
   ]
  },
  {
   "cell_type": "markdown",
   "metadata": {},
   "source": [
    "# 2. Entendimientos de los datos"
   ]
  },
  {
   "cell_type": "code",
   "execution_count": 15,
   "metadata": {},
   "outputs": [
    {
     "data": {
      "application/vnd.jupyter.widget-view+json": {
       "model_id": "8d9eb110a18c4a2481072b2038a9aec8",
       "version_major": 2,
       "version_minor": 0
      },
      "text/plain": [
       "Summarize dataset:   0%|          | 0/5 [00:00<?, ?it/s]"
      ]
     },
     "metadata": {},
     "output_type": "display_data"
    },
    {
     "data": {
      "application/vnd.jupyter.widget-view+json": {
       "model_id": "0e9d2793ad0741fb9318eb7c983297d9",
       "version_major": 2,
       "version_minor": 0
      },
      "text/plain": [
       "Generate report structure:   0%|          | 0/1 [00:00<?, ?it/s]"
      ]
     },
     "metadata": {},
     "output_type": "display_data"
    },
    {
     "data": {
      "application/vnd.jupyter.widget-view+json": {
       "model_id": "97a38319a899465885a5d880e0e73629",
       "version_major": 2,
       "version_minor": 0
      },
      "text/plain": [
       "Render widgets:   0%|          | 0/1 [00:00<?, ?it/s]"
      ]
     },
     "metadata": {},
     "output_type": "display_data"
    },
    {
     "data": {
      "application/vnd.jupyter.widget-view+json": {
       "model_id": "a6c0dbbab2c7417a85cab75f50e5d987",
       "version_major": 2,
       "version_minor": 0
      },
      "text/plain": [
       "VBox(children=(Tab(children=(Tab(children=(GridBox(children=(VBox(children=(GridspecLayout(children=(HTML(valu…"
      ]
     },
     "metadata": {},
     "output_type": "display_data"
    }
   ],
   "source": [
    "# Perfilamiento de los datos\n",
    "from ydata_profiling import ProfileReport\n",
    "profile = ProfileReport(train_data_original, title='Pandas Profiling Report', explorative=True)\n",
    "profile.to_widgets()"
   ]
  },
  {
   "cell_type": "markdown",
   "metadata": {},
   "source": [
    "De este reporte de perfilamiento de datos se pueden sacar varias conclusiones:\n",
    "- Parece haber alta correlacion entre algunas variables.\n",
    "- Hay 17 registros duplicados.\n",
    "- Hay 18 variables de las cuales 2 son categoricas que se deben tratar.\n",
    "- No hay nulos en el set de datos.\n",
    "- Hay 4000 observaciones."
   ]
  },
  {
   "cell_type": "markdown",
   "metadata": {},
   "source": [
    "El análisis realizado muestra que no hay valores nulos en ninguna de las columnas del DataFrame validation_data. Esto es evidente ya que la proporción de valores nulos para todas las columnas (ra, colv, i, rowv, class, dec, score, camcol, field, clean, r, z, g, run, objid, u, mjd) es igual a 0."
   ]
  },
  {
   "cell_type": "code",
   "execution_count": 16,
   "metadata": {},
   "outputs": [
    {
     "data": {
      "text/plain": [
       "objid       0.0\n",
       "ra          0.0\n",
       "dec         0.0\n",
       "u           0.0\n",
       "g           0.0\n",
       "r           0.0\n",
       "i           0.0\n",
       "z           0.0\n",
       "run         0.0\n",
       "camcol      0.0\n",
       "field       0.0\n",
       "score       0.0\n",
       "clean       0.0\n",
       "class       0.0\n",
       "redshift    0.0\n",
       "mjd         0.0\n",
       "rowv        0.0\n",
       "colv        0.0\n",
       "dtype: float64"
      ]
     },
     "execution_count": 16,
     "metadata": {},
     "output_type": "execute_result"
    }
   ],
   "source": [
    "features = [\"objid\", \"ra\", \"dec\", \"u\", \"g\", \"r\", \"i\", \"z\", \"run\", \"camcol\", \"field\", \"score\", \"clean\", \"class\", \"redshift\", \"mjd\", \"rowv\", \"colv\"]\n",
    "train_data = train_data_original.copy()\n",
    "train_data[features].isnull().sum() / train_data.shape[0]\n"
   ]
  },
  {
   "cell_type": "markdown",
   "metadata": {},
   "source": [
    "### 2.1. Búsqueda de relaciones con la variable objetivo"
   ]
  },
  {
   "cell_type": "markdown",
   "metadata": {},
   "source": [
    "#### Relaciones entre las Magnitudes con la variable objetivo Redshift\n",
    "Se puede observar que las magnitudes se distribuyen de forma aleatoria respecto al redshift y todas tienen una distribución algo similar pero esto se puede deber a datos atipicos que pueden estar afectando como se pueden notar hay datos que estan muy por encima de los demas, lo que puede indicar presencia de outliers"
   ]
  },
  {
   "cell_type": "code",
   "execution_count": 17,
   "metadata": {},
   "outputs": [
    {
     "data": {
      "text/plain": [
       "<seaborn.axisgrid.PairGrid at 0x11118dc10>"
      ]
     },
     "execution_count": 17,
     "metadata": {},
     "output_type": "execute_result"
    }
   ],
   "source": [
    "\n",
    "magnitude_features = [\"u\", \"g\", \"r\", \"i\", \"z\"]\n",
    "sns.pairplot(train_data.sample(frac=0.2), height=4, y_vars=\"redshift\", x_vars=magnitude_features, kind=\"scatter\")\n"
   ]
  },
  {
   "cell_type": "markdown",
   "metadata": {},
   "source": [
    "#### Relaciones de otros atributos como la ubicación, velocidad y valor de calidad con el valor objetivo Redshift"
   ]
  },
  {
   "cell_type": "markdown",
   "metadata": {},
   "source": [
    "En este caso se puede observar como la ubicación en ascenso y declinacion tiene una distribucion aleatoria pero con algunos valores atipicos que salen del rango comun de los datos, lo que se puede observar mas en la ubicacion de declinación.  Por otro lado en las velocidades se puede observar también una distribucion similar en ambas donde se centran los datos en cero. Por ultimo, en el valor de calidad de la observación se puede observar tambien una distribución aleatoria donde normalmente se tiene una gran calidad de las fotos, pero hay otra pequeña cantidad de datos que obtuvieron baja calidad de datos."
   ]
  },
  {
   "cell_type": "code",
   "execution_count": 18,
   "metadata": {},
   "outputs": [
    {
     "data": {
      "text/plain": [
       "<seaborn.axisgrid.PairGrid at 0x13cb8f760>"
      ]
     },
     "execution_count": 18,
     "metadata": {},
     "output_type": "execute_result"
    }
   ],
   "source": [
    "features = [\"ra\", \"dec\", \"rowv\", \"colv\", \"score\"]\n",
    "sns.pairplot(train_data.sample(frac=0.2), height=4, y_vars=\"redshift\", x_vars=features, kind=\"scatter\")\n",
    "\n"
   ]
  },
  {
   "cell_type": "markdown",
   "metadata": {},
   "source": [
    "#### Relaciones de otros atributos como el numero de observación, sección y dia juliano con el valor objetivo Redshift"
   ]
  },
  {
   "cell_type": "markdown",
   "metadata": {},
   "source": [
    "Se puede observar como el numero de observación realizada por el telescopio tiene valores muy cercanos a un valores exceptuando por algunos valores que toman valores extremos, para el caso de la seccion de la columna field y camcol se puede observar una distribucion aleatoria "
   ]
  },
  {
   "cell_type": "code",
   "execution_count": 19,
   "metadata": {},
   "outputs": [
    {
     "data": {
      "text/plain": [
       "<seaborn.axisgrid.PairGrid at 0x13d614cd0>"
      ]
     },
     "execution_count": 19,
     "metadata": {},
     "output_type": "execute_result"
    }
   ],
   "source": [
    "features = [\"camcol\", \"field\", \"run\"]\n",
    "sns.pairplot(train_data.sample(frac=0.2), height=4, y_vars=\"redshift\", x_vars=features, kind=\"scatter\")\n"
   ]
  },
  {
   "cell_type": "markdown",
   "metadata": {},
   "source": [
    "#### Relaciones de otros atributos categoricos con el valor objetivo Redshift"
   ]
  },
  {
   "cell_type": "markdown",
   "metadata": {},
   "source": [
    "En los BoxPlots de abajo se observan las diferentes columnas categoricas que hay en la base de datos, para el caso de la clase del tipo registrado se deberian tener solamente Estrella (STAR) o Galaxia (GALAXY) o Cuasar (QSO) pero se puede observar que hay otras clases no identificadas como S, QUASAR y Q lo que puede indicar errores en estos datos. Para los otros datos categoricos si se ven relaciones aleatorias sin alteraciones o probables errores.\n"
   ]
  },
  {
   "cell_type": "code",
   "execution_count": 20,
   "metadata": {},
   "outputs": [
    {
     "name": "stderr",
     "output_type": "stream",
     "text": [
      "/var/folders/6x/ddh0g_5x1n9bysm0_rz1s92r0000gn/T/ipykernel_63262/1093796258.py:2: FutureWarning: \n",
      "\n",
      "Passing `palette` without assigning `hue` is deprecated and will be removed in v0.14.0. Assign the `x` variable to `hue` and set `legend=False` for the same effect.\n",
      "\n",
      "  sns.violinplot(data=train_data, x=\"class\", y=\"redshift\", palette=\"Set2\")\n",
      "/var/folders/6x/ddh0g_5x1n9bysm0_rz1s92r0000gn/T/ipykernel_63262/1093796258.py:3: UserWarning: FigureCanvasAgg is non-interactive, and thus cannot be shown\n",
      "  plt.show()\n",
      "/var/folders/6x/ddh0g_5x1n9bysm0_rz1s92r0000gn/T/ipykernel_63262/1093796258.py:10: UserWarning: FigureCanvasAgg is non-interactive, and thus cannot be shown\n",
      "  plt.show()\n",
      "/var/folders/6x/ddh0g_5x1n9bysm0_rz1s92r0000gn/T/ipykernel_63262/1093796258.py:10: UserWarning: FigureCanvasAgg is non-interactive, and thus cannot be shown\n",
      "  plt.show()\n"
     ]
    }
   ],
   "source": [
    "# Distribución de redshift por clase de objeto (class)\n",
    "sns.violinplot(data=train_data, x=\"class\", y=\"redshift\", palette=\"Set2\")\n",
    "plt.show()\n",
    "\n",
    "# Boxplot para cada característica categórica individualmente\n",
    "for feature in [\"clean\", \"camcol\"]:\n",
    "    \n",
    "    sns.boxplot(data=train_data, x=feature, y=\"redshift\")\n",
    "    plt.title(f\"Distribución de redshift por {feature}\")\n",
    "    plt.show()\n"
   ]
  },
  {
   "cell_type": "markdown",
   "metadata": {},
   "source": [
    "### 2.2. Búsqueda de relaciones entre las variables de entrada\n"
   ]
  },
  {
   "cell_type": "markdown",
   "metadata": {},
   "source": [
    "En la grafica de abajo se grafica las correlaciones entre las diferentes variables numericas, como se puede observar hay poca correlacion entre las diferentes variables exceptuando en las magnitudes donde estas tienen correlaciones altas que pueden variar desde 0,5 a 0,8 de correlacion entre estas"
   ]
  },
  {
   "cell_type": "code",
   "execution_count": 21,
   "metadata": {},
   "outputs": [
    {
     "data": {
      "text/plain": [
       "<Axes: >"
      ]
     },
     "execution_count": 21,
     "metadata": {},
     "output_type": "execute_result"
    }
   ],
   "source": [
    "features = [ \"ra\", \"dec\", \"u\", \"g\", \"r\", \"i\", \"z\", \"run\", \"field\", \"score\", \"clean\", \"mjd\", \"rowv\", \"colv\"]\n",
    "plt.figure(figsize=(12, 10))\n",
    "sns.heatmap(train_data[features].corr(), cmap=\"Blues\", vmin=0, vmax=1)"
   ]
  },
  {
   "cell_type": "markdown",
   "metadata": {},
   "source": [
    "### 2.3 Distribuciones individuales de las características"
   ]
  },
  {
   "cell_type": "markdown",
   "metadata": {},
   "source": [
    "Aca se puede observar que la mayoria de magnitudes tienden a formar un histograma con distribucion normal exceptuando al magnitud de ultravioleta, en cuanto a las ubicaciones muestran una distribucion mas aleatoria, en cuanto al score de calidad tambien presenta una distribucion normal pero con valores extremos, por ultimo, las velocidades y redshift presentan una distribucion con menor variacion en sus datos centrandose en unos valores especificos."
   ]
  },
  {
   "cell_type": "code",
   "execution_count": 22,
   "metadata": {},
   "outputs": [
    {
     "name": "stderr",
     "output_type": "stream",
     "text": [
      "/var/folders/6x/ddh0g_5x1n9bysm0_rz1s92r0000gn/T/ipykernel_63262/1503655725.py:3: UserWarning: FigureCanvasAgg is non-interactive, and thus cannot be shown\n",
      "  plt.show()\n"
     ]
    }
   ],
   "source": [
    "\n",
    "features = [\"ra\", \"dec\", \"u\", \"g\", \"r\", \"i\", \"z\", \"score\", \"redshift\", \"rowv\", \"colv\"]\n",
    "train_data[features].hist(figsize=(12, 10), bins=30)\n",
    "plt.show()\n"
   ]
  },
  {
   "cell_type": "markdown",
   "metadata": {},
   "source": [
    "## 3. Selección de variables"
   ]
  },
  {
   "cell_type": "code",
   "execution_count": 23,
   "metadata": {},
   "outputs": [],
   "source": [
    "# Train data\n",
    "train_data2 = train_data.copy() \n",
    "\n",
    "# Funcion para eliminar las variables no seleccioandas\n",
    "def seleccion_de_variables(data, variable):\n",
    "    return data.drop(columns=[variable])  "
   ]
  },
  {
   "cell_type": "code",
   "execution_count": 24,
   "metadata": {},
   "outputs": [
    {
     "data": {
      "text/plain": [
       "<Axes: >"
      ]
     },
     "execution_count": 24,
     "metadata": {},
     "output_type": "execute_result"
    }
   ],
   "source": [
    "features = [ \"ra\", \"dec\", \"u\", \"g\", \"r\", \"i\", \"z\", \"run\", \"camcol\", \"field\", \"score\", \"clean\", \"mjd\", \"rowv\", \"colv\"]\n",
    "plt.figure(figsize=(6, 6))\n",
    "sns.heatmap(train_data2[features].corr(), cmap=\"Blues\", vmin=0, vmax=1)"
   ]
  },
  {
   "cell_type": "markdown",
   "metadata": {},
   "source": [
    "Teniendo en cuenta el mapa de correlación se empezarán a eliminar variables que tengan la correlación superior a 0.8 como se menciona en el laboratorio de \"Machine learning supervisado, regresión\". Inicialmente se eliminará la la variable \"z\" que corresponde a casi-infrarojo, se espera que con la variable \"i\" la cual corresponde a infrarojo baste para utilizar bien el modelo."
   ]
  },
  {
   "cell_type": "code",
   "execution_count": 25,
   "metadata": {},
   "outputs": [],
   "source": [
    "#Eliminar la columba z\n",
    "train_data_filtrada_1 = seleccion_de_variables(train_data2, \"z\")"
   ]
  },
  {
   "cell_type": "code",
   "execution_count": 26,
   "metadata": {},
   "outputs": [
    {
     "data": {
      "text/plain": [
       "<Axes: >"
      ]
     },
     "execution_count": 26,
     "metadata": {},
     "output_type": "execute_result"
    }
   ],
   "source": [
    "features = [ \"ra\", \"dec\", \"u\", \"g\", \"r\", \"i\", \"run\", \"camcol\", \"field\", \"score\", \"clean\", \"mjd\", \"rowv\", \"colv\"]\n",
    "plt.figure(figsize=(6, 6))\n",
    "sns.heatmap(train_data_filtrada_1[features].corr(), cmap=\"Blues\", vmin=0, vmax=1)"
   ]
  },
  {
   "cell_type": "markdown",
   "metadata": {},
   "source": [
    "Ahora bien, ya eliminando la variable \"z\" se vuelve a realizar el analisis de las correlaciones en el cual se puede ver que siguen existiendo relaciones mayores a 0.8. En este orden de ideas, se eliminará la variable del filtro verde (g) para seguir evitando información redundante en las variables."
   ]
  },
  {
   "cell_type": "code",
   "execution_count": 27,
   "metadata": {},
   "outputs": [],
   "source": [
    "#Eliminar la columba g\n",
    "train_data_filtrada_2 = seleccion_de_variables(train_data_filtrada_1, \"g\")"
   ]
  },
  {
   "cell_type": "code",
   "execution_count": 28,
   "metadata": {},
   "outputs": [
    {
     "data": {
      "text/plain": [
       "<Axes: >"
      ]
     },
     "execution_count": 28,
     "metadata": {},
     "output_type": "execute_result"
    }
   ],
   "source": [
    "features = [ \"ra\", \"dec\", \"u\", \"r\", \"i\", \"run\", \"camcol\", \"field\", \"score\", \"clean\", \"mjd\", \"rowv\", \"colv\"]\n",
    "plt.figure(figsize=(6, 6))\n",
    "sns.heatmap(train_data_filtrada_2[features].corr(), cmap=\"Blues\", vmin=0, vmax=1)"
   ]
  },
  {
   "cell_type": "markdown",
   "metadata": {},
   "source": [
    "Finalmente se eliminará la variable \"r\" la cual corresponde al filtro rojo ya que se cuenta con la variable de filtro infrarojo(i) la cual como se puede ver en el grafico de correlación se podría tener inforamción redundante."
   ]
  },
  {
   "cell_type": "code",
   "execution_count": 29,
   "metadata": {},
   "outputs": [],
   "source": [
    "#Eliminar la columba r\n",
    "train_data_filtrada_3 = seleccion_de_variables(train_data_filtrada_2, \"r\")"
   ]
  },
  {
   "cell_type": "code",
   "execution_count": 30,
   "metadata": {},
   "outputs": [
    {
     "data": {
      "text/plain": [
       "<Axes: >"
      ]
     },
     "execution_count": 30,
     "metadata": {},
     "output_type": "execute_result"
    }
   ],
   "source": [
    "features = [ \"ra\", \"dec\", \"u\", \"i\", \"run\", \"camcol\", \"field\", \"score\", \"clean\", \"mjd\", \"rowv\", \"colv\"]\n",
    "plt.figure(figsize=(6, 6))\n",
    "sns.heatmap(train_data_filtrada_2[features].corr(), cmap=\"Blues\", vmin=0, vmax=1)"
   ]
  },
  {
   "cell_type": "markdown",
   "metadata": {},
   "source": [
    "Adicionalmente se dicidio eliminar las columnas objid y runs ya que es información que creemos no aporta valor. Mientras que al quitar estas columnas disminuimos el tamaño de los datos."
   ]
  },
  {
   "cell_type": "code",
   "execution_count": 31,
   "metadata": {},
   "outputs": [],
   "source": [
    "#Eliminar la columba runs y objid\n",
    "train_data_filtrada_4 = seleccion_de_variables(train_data_filtrada_3, \"run\")\n",
    "train_data_filtrada_5 = seleccion_de_variables(train_data_filtrada_4, \"objid\")"
   ]
  },
  {
   "cell_type": "code",
   "execution_count": 32,
   "metadata": {},
   "outputs": [
    {
     "name": "stdout",
     "output_type": "stream",
     "text": [
      "           ra       dec         u         i  camcol  field     score  clean  \\\n",
      "0  185.574486  0.701402  19.11034  16.82993       5    466  0.864145      1   \n",
      "1  203.801841 -0.853906  18.90957  16.62059       1    588  0.816541      1   \n",
      "2  160.034264 -0.421626  19.26340  16.42307       2    295  0.870381      1   \n",
      "3  200.807373 -0.682024  18.82022  17.11128       2    382  0.867801      1   \n",
      "4  189.792404 -1.001480  18.91391  19.75660       1    494  0.833824      1   \n",
      "\n",
      "    class      redshift    mjd      rowv      colv  \n",
      "0    STAR  8.780529e-05  54140  0.002418  0.001363  \n",
      "1  GALAXY  8.619995e-02  51955  0.008650  0.007056  \n",
      "2  GALAXY  1.330486e-01  51913  0.003938 -0.002028  \n",
      "3  GALAXY  8.636355e-02  51959  0.001839  0.001160  \n",
      "4    STAR -4.090000e-08  54562  0.001929 -0.000465  \n"
     ]
    }
   ],
   "source": [
    "print(train_data_filtrada_5.head())"
   ]
  },
  {
   "cell_type": "markdown",
   "metadata": {},
   "source": [
    "## 4. Preparación y limpieza de datos"
   ]
  },
  {
   "cell_type": "code",
   "execution_count": 33,
   "metadata": {},
   "outputs": [],
   "source": [
    "features = train_data_filtrada_5.columns\n",
    "\n",
    "train_data_prep = train_data_filtrada_5.copy()"
   ]
  },
  {
   "cell_type": "code",
   "execution_count": 34,
   "metadata": {},
   "outputs": [
    {
     "name": "stdout",
     "output_type": "stream",
     "text": [
      "ra          0\n",
      "dec         0\n",
      "u           0\n",
      "i           0\n",
      "camcol      0\n",
      "field       0\n",
      "score       0\n",
      "clean       0\n",
      "class       0\n",
      "redshift    0\n",
      "mjd         0\n",
      "rowv        0\n",
      "colv        0\n",
      "dtype: int64\n"
     ]
    }
   ],
   "source": [
    "# Reviasr si hay valores nulos\n",
    "print(train_data_prep.isnull().sum())"
   ]
  },
  {
   "cell_type": "code",
   "execution_count": 35,
   "metadata": {},
   "outputs": [
    {
     "name": "stdout",
     "output_type": "stream",
     "text": [
      "34\n",
      "34\n"
     ]
    }
   ],
   "source": [
    "# Reivsar si hay duplicados\n",
    "duplicated_rows_xy = train_data_prep.loc[train_data_prep.duplicated(keep=False)].shape[0]\n",
    "print(duplicated_rows_xy)\n",
    "\n",
    "duplicated_rows_x = train_data_prep.loc[train_data_prep.duplicated(subset=features, keep=False)].shape[0]\n",
    "print(duplicated_rows_x)"
   ]
  },
  {
   "cell_type": "markdown",
   "metadata": {},
   "source": [
    "Como el numero de duplicados es el mismo incluyendo o no la variable de respuesta (redshift) entonces lo unico que se debe hacer es eliminar estos valores."
   ]
  },
  {
   "cell_type": "code",
   "execution_count": 36,
   "metadata": {},
   "outputs": [
    {
     "data": {
      "text/plain": [
       "(3983, 13)"
      ]
     },
     "execution_count": 36,
     "metadata": {},
     "output_type": "execute_result"
    }
   ],
   "source": [
    "train_data_prep_1 = train_data_prep.drop_duplicates(keep='first')\n",
    "train_data_prep_1.shape"
   ]
  },
  {
   "cell_type": "code",
   "execution_count": 37,
   "metadata": {},
   "outputs": [
    {
     "name": "stdout",
     "output_type": "stream",
     "text": [
      "0\n",
      "0\n",
      "0\n",
      "0\n"
     ]
    }
   ],
   "source": [
    "# Verificar problemas consistencia y validez\n",
    "# u, i mayores a 0\n",
    "print(train_data_prep_1[train_data_prep_1[\"u\"] < 0].shape[0])\n",
    "# scores valores entre 0 y 1\n",
    "print(train_data_prep_1[train_data_prep_1[\"score\"] < 0].shape[0])\n",
    "print(train_data_prep_1[train_data_prep_1[\"score\"] > 1].shape[0])\n",
    "# clean es o 0 o 1\n",
    "dif_0 = train_data_prep_1[train_data_prep_1[\"clean\"] != 0].shape[0]\n",
    "dif_1 = train_data_prep_1[train_data_prep_1[\"clean\"] != 1].shape[0]\n",
    "print(dif_0 + dif_1 - train_data_prep_1.shape[0])"
   ]
  },
  {
   "cell_type": "markdown",
   "metadata": {},
   "source": [
    "Dada la información en el diccionario de datos se verificó que los datos fueran coherentes. Efectivamente no hay datos que no sean coherentes con la definicion dada. También se verifico la validez de los datos al asegurar que se cumplieran los rangos de los valores."
   ]
  },
  {
   "cell_type": "markdown",
   "metadata": {},
   "source": [
    "Antes de volver la caracteristica \"class\" en una variable dummy, primero se debe corregir el problema de inconsistencia ya que en el diccionario mencionan solo 3 tipos de clase y en los datos hay 2 extra que son S y G. En este caso asumiremos que los datos con el valor S pertenecen a la categoria STAR y el valor G a la categoria GALAXY"
   ]
  },
  {
   "cell_type": "code",
   "execution_count": 38,
   "metadata": {},
   "outputs": [
    {
     "name": "stdout",
     "output_type": "stream",
     "text": [
      "class\n",
      "GALAXY    1891\n",
      "STAR      1800\n",
      "QSO        292\n",
      "Name: count, dtype: int64\n"
     ]
    },
    {
     "name": "stderr",
     "output_type": "stream",
     "text": [
      "/var/folders/6x/ddh0g_5x1n9bysm0_rz1s92r0000gn/T/ipykernel_63262/2572436401.py:3: SettingWithCopyWarning: \n",
      "A value is trying to be set on a copy of a slice from a DataFrame.\n",
      "Try using .loc[row_indexer,col_indexer] = value instead\n",
      "\n",
      "See the caveats in the documentation: https://pandas.pydata.org/pandas-docs/stable/user_guide/indexing.html#returning-a-view-versus-a-copy\n",
      "  data[\"class\"] = data[\"class\"].replace({\"S\": \"STAR\", \"G\": \"GALAXY\", \"QUASAR\": \"QSO\"})\n"
     ]
    }
   ],
   "source": [
    "# Los registros con S se replaza por STAR, los que tienen G con GALAXY y los que tienen QUASAR con QSO\n",
    "def clean_class(data):\n",
    "    data[\"class\"] = data[\"class\"].replace({\"S\": \"STAR\", \"G\": \"GALAXY\", \"QUASAR\": \"QSO\"})\n",
    "    return data\n",
    "\n",
    "train_data_prep_2 = clean_class(train_data_prep_1)\n",
    "print(train_data_prep_2[\"class\"].value_counts())\n"
   ]
  },
  {
   "cell_type": "markdown",
   "metadata": {},
   "source": [
    "Con el perfilamiento de los datos se pudo ver que las caracteristicas \"class\", \"clean\" y \"camcol\" son varibales categoricas. Como el model que se utilizará es regresion lineal, se necestia que todos los valores sean numericos. En el caso de \"clean\", si bien es categorica, es una variable dummie, por lo que ya se encuentra en numeros (0 y 1) pero los valores de la variable \"class\" y \"camcol\" si son categorias por lo que se debe transformar esta variable."
   ]
  },
  {
   "cell_type": "code",
   "execution_count": 39,
   "metadata": {},
   "outputs": [
    {
     "data": {
      "text/html": [
       "<div>\n",
       "<style scoped>\n",
       "    .dataframe tbody tr th:only-of-type {\n",
       "        vertical-align: middle;\n",
       "    }\n",
       "\n",
       "    .dataframe tbody tr th {\n",
       "        vertical-align: top;\n",
       "    }\n",
       "\n",
       "    .dataframe thead th {\n",
       "        text-align: right;\n",
       "    }\n",
       "</style>\n",
       "<table border=\"1\" class=\"dataframe\">\n",
       "  <thead>\n",
       "    <tr style=\"text-align: right;\">\n",
       "      <th></th>\n",
       "      <th>ra</th>\n",
       "      <th>dec</th>\n",
       "      <th>u</th>\n",
       "      <th>i</th>\n",
       "      <th>field</th>\n",
       "      <th>score</th>\n",
       "      <th>clean</th>\n",
       "      <th>redshift</th>\n",
       "      <th>mjd</th>\n",
       "      <th>rowv</th>\n",
       "      <th>colv</th>\n",
       "      <th>class_QSO</th>\n",
       "      <th>class_STAR</th>\n",
       "      <th>camcol_2</th>\n",
       "      <th>camcol_3</th>\n",
       "      <th>camcol_4</th>\n",
       "      <th>camcol_5</th>\n",
       "      <th>camcol_6</th>\n",
       "    </tr>\n",
       "  </thead>\n",
       "  <tbody>\n",
       "    <tr>\n",
       "      <th>0</th>\n",
       "      <td>185.574486</td>\n",
       "      <td>0.701402</td>\n",
       "      <td>19.11034</td>\n",
       "      <td>16.82993</td>\n",
       "      <td>466</td>\n",
       "      <td>0.864145</td>\n",
       "      <td>1</td>\n",
       "      <td>8.780529e-05</td>\n",
       "      <td>54140</td>\n",
       "      <td>0.002418</td>\n",
       "      <td>0.001363</td>\n",
       "      <td>False</td>\n",
       "      <td>True</td>\n",
       "      <td>False</td>\n",
       "      <td>False</td>\n",
       "      <td>False</td>\n",
       "      <td>True</td>\n",
       "      <td>False</td>\n",
       "    </tr>\n",
       "    <tr>\n",
       "      <th>1</th>\n",
       "      <td>203.801841</td>\n",
       "      <td>-0.853906</td>\n",
       "      <td>18.90957</td>\n",
       "      <td>16.62059</td>\n",
       "      <td>588</td>\n",
       "      <td>0.816541</td>\n",
       "      <td>1</td>\n",
       "      <td>8.619995e-02</td>\n",
       "      <td>51955</td>\n",
       "      <td>0.008650</td>\n",
       "      <td>0.007056</td>\n",
       "      <td>False</td>\n",
       "      <td>False</td>\n",
       "      <td>False</td>\n",
       "      <td>False</td>\n",
       "      <td>False</td>\n",
       "      <td>False</td>\n",
       "      <td>False</td>\n",
       "    </tr>\n",
       "    <tr>\n",
       "      <th>2</th>\n",
       "      <td>160.034264</td>\n",
       "      <td>-0.421626</td>\n",
       "      <td>19.26340</td>\n",
       "      <td>16.42307</td>\n",
       "      <td>295</td>\n",
       "      <td>0.870381</td>\n",
       "      <td>1</td>\n",
       "      <td>1.330486e-01</td>\n",
       "      <td>51913</td>\n",
       "      <td>0.003938</td>\n",
       "      <td>-0.002028</td>\n",
       "      <td>False</td>\n",
       "      <td>False</td>\n",
       "      <td>True</td>\n",
       "      <td>False</td>\n",
       "      <td>False</td>\n",
       "      <td>False</td>\n",
       "      <td>False</td>\n",
       "    </tr>\n",
       "    <tr>\n",
       "      <th>3</th>\n",
       "      <td>200.807373</td>\n",
       "      <td>-0.682024</td>\n",
       "      <td>18.82022</td>\n",
       "      <td>17.11128</td>\n",
       "      <td>382</td>\n",
       "      <td>0.867801</td>\n",
       "      <td>1</td>\n",
       "      <td>8.636355e-02</td>\n",
       "      <td>51959</td>\n",
       "      <td>0.001839</td>\n",
       "      <td>0.001160</td>\n",
       "      <td>False</td>\n",
       "      <td>False</td>\n",
       "      <td>True</td>\n",
       "      <td>False</td>\n",
       "      <td>False</td>\n",
       "      <td>False</td>\n",
       "      <td>False</td>\n",
       "    </tr>\n",
       "    <tr>\n",
       "      <th>4</th>\n",
       "      <td>189.792404</td>\n",
       "      <td>-1.001480</td>\n",
       "      <td>18.91391</td>\n",
       "      <td>19.75660</td>\n",
       "      <td>494</td>\n",
       "      <td>0.833824</td>\n",
       "      <td>1</td>\n",
       "      <td>-4.090000e-08</td>\n",
       "      <td>54562</td>\n",
       "      <td>0.001929</td>\n",
       "      <td>-0.000465</td>\n",
       "      <td>False</td>\n",
       "      <td>True</td>\n",
       "      <td>False</td>\n",
       "      <td>False</td>\n",
       "      <td>False</td>\n",
       "      <td>False</td>\n",
       "      <td>False</td>\n",
       "    </tr>\n",
       "  </tbody>\n",
       "</table>\n",
       "</div>"
      ],
      "text/plain": [
       "           ra       dec         u         i  field     score  clean  \\\n",
       "0  185.574486  0.701402  19.11034  16.82993    466  0.864145      1   \n",
       "1  203.801841 -0.853906  18.90957  16.62059    588  0.816541      1   \n",
       "2  160.034264 -0.421626  19.26340  16.42307    295  0.870381      1   \n",
       "3  200.807373 -0.682024  18.82022  17.11128    382  0.867801      1   \n",
       "4  189.792404 -1.001480  18.91391  19.75660    494  0.833824      1   \n",
       "\n",
       "       redshift    mjd      rowv      colv  class_QSO  class_STAR  camcol_2  \\\n",
       "0  8.780529e-05  54140  0.002418  0.001363      False        True     False   \n",
       "1  8.619995e-02  51955  0.008650  0.007056      False       False     False   \n",
       "2  1.330486e-01  51913  0.003938 -0.002028      False       False      True   \n",
       "3  8.636355e-02  51959  0.001839  0.001160      False       False      True   \n",
       "4 -4.090000e-08  54562  0.001929 -0.000465      False        True     False   \n",
       "\n",
       "   camcol_3  camcol_4  camcol_5  camcol_6  \n",
       "0     False     False      True     False  \n",
       "1     False     False     False     False  \n",
       "2     False     False     False     False  \n",
       "3     False     False     False     False  \n",
       "4     False     False     False     False  "
      ]
     },
     "execution_count": 39,
     "metadata": {},
     "output_type": "execute_result"
    }
   ],
   "source": [
    "# Separar las categorias de la columna class en diferentes columnas y si pertenece a la categoria se pone un 1 y si no un 0\n",
    "def one_hot_encode(data, column):\n",
    "    return pd.get_dummies(data, columns=[column], prefix=column, drop_first=True)\n",
    "\n",
    "datos_limpios = one_hot_encode(train_data_prep_2, \"class\")\n",
    "datos_limpios = one_hot_encode(datos_limpios, \"camcol\")\n",
    "datos_limpios.head()"
   ]
  },
  {
   "cell_type": "markdown",
   "metadata": {},
   "source": [
    "## 5. Construcción del modelo de regresión lineal y cálculo de sus métricas de calidad\n",
    "### Partición de datos\n",
    "Lo primero que se hace es dividir en los que seran utilizados para entrenar y despues para testear ademas de dividir los datos para entrenar al modelo como las variables de entrada y las de salida"
   ]
  },
  {
   "cell_type": "code",
   "execution_count": 40,
   "metadata": {},
   "outputs": [
    {
     "data": {
      "text/plain": [
       "((3385, 17), (598, 17), (3385,), (598,))"
      ]
     },
     "execution_count": 40,
     "metadata": {},
     "output_type": "execute_result"
    }
   ],
   "source": [
    "features = datos_limpios.columns.drop(\"redshift\")  # Selecciona todas las columnas excepto \"redshift\"\n",
    "X_train, X_test, y_train, y_test = train_test_split(datos_limpios[features], datos_limpios[\"redshift\"], test_size=0.15, random_state=1)\n",
    "X_train.shape, X_test.shape, y_train.shape, y_test.shape"
   ]
  },
  {
   "cell_type": "markdown",
   "metadata": {},
   "source": [
    "Se crea ahora el modelo de regresión lineal "
   ]
  },
  {
   "cell_type": "code",
   "execution_count": 41,
   "metadata": {},
   "outputs": [
    {
     "data": {
      "text/html": [
       "<style>#sk-container-id-1 {\n",
       "  /* Definition of color scheme common for light and dark mode */\n",
       "  --sklearn-color-text: #000;\n",
       "  --sklearn-color-text-muted: #666;\n",
       "  --sklearn-color-line: gray;\n",
       "  /* Definition of color scheme for unfitted estimators */\n",
       "  --sklearn-color-unfitted-level-0: #fff5e6;\n",
       "  --sklearn-color-unfitted-level-1: #f6e4d2;\n",
       "  --sklearn-color-unfitted-level-2: #ffe0b3;\n",
       "  --sklearn-color-unfitted-level-3: chocolate;\n",
       "  /* Definition of color scheme for fitted estimators */\n",
       "  --sklearn-color-fitted-level-0: #f0f8ff;\n",
       "  --sklearn-color-fitted-level-1: #d4ebff;\n",
       "  --sklearn-color-fitted-level-2: #b3dbfd;\n",
       "  --sklearn-color-fitted-level-3: cornflowerblue;\n",
       "\n",
       "  /* Specific color for light theme */\n",
       "  --sklearn-color-text-on-default-background: var(--sg-text-color, var(--theme-code-foreground, var(--jp-content-font-color1, black)));\n",
       "  --sklearn-color-background: var(--sg-background-color, var(--theme-background, var(--jp-layout-color0, white)));\n",
       "  --sklearn-color-border-box: var(--sg-text-color, var(--theme-code-foreground, var(--jp-content-font-color1, black)));\n",
       "  --sklearn-color-icon: #696969;\n",
       "\n",
       "  @media (prefers-color-scheme: dark) {\n",
       "    /* Redefinition of color scheme for dark theme */\n",
       "    --sklearn-color-text-on-default-background: var(--sg-text-color, var(--theme-code-foreground, var(--jp-content-font-color1, white)));\n",
       "    --sklearn-color-background: var(--sg-background-color, var(--theme-background, var(--jp-layout-color0, #111)));\n",
       "    --sklearn-color-border-box: var(--sg-text-color, var(--theme-code-foreground, var(--jp-content-font-color1, white)));\n",
       "    --sklearn-color-icon: #878787;\n",
       "  }\n",
       "}\n",
       "\n",
       "#sk-container-id-1 {\n",
       "  color: var(--sklearn-color-text);\n",
       "}\n",
       "\n",
       "#sk-container-id-1 pre {\n",
       "  padding: 0;\n",
       "}\n",
       "\n",
       "#sk-container-id-1 input.sk-hidden--visually {\n",
       "  border: 0;\n",
       "  clip: rect(1px 1px 1px 1px);\n",
       "  clip: rect(1px, 1px, 1px, 1px);\n",
       "  height: 1px;\n",
       "  margin: -1px;\n",
       "  overflow: hidden;\n",
       "  padding: 0;\n",
       "  position: absolute;\n",
       "  width: 1px;\n",
       "}\n",
       "\n",
       "#sk-container-id-1 div.sk-dashed-wrapped {\n",
       "  border: 1px dashed var(--sklearn-color-line);\n",
       "  margin: 0 0.4em 0.5em 0.4em;\n",
       "  box-sizing: border-box;\n",
       "  padding-bottom: 0.4em;\n",
       "  background-color: var(--sklearn-color-background);\n",
       "}\n",
       "\n",
       "#sk-container-id-1 div.sk-container {\n",
       "  /* jupyter's `normalize.less` sets `[hidden] { display: none; }`\n",
       "     but bootstrap.min.css set `[hidden] { display: none !important; }`\n",
       "     so we also need the `!important` here to be able to override the\n",
       "     default hidden behavior on the sphinx rendered scikit-learn.org.\n",
       "     See: https://github.com/scikit-learn/scikit-learn/issues/21755 */\n",
       "  display: inline-block !important;\n",
       "  position: relative;\n",
       "}\n",
       "\n",
       "#sk-container-id-1 div.sk-text-repr-fallback {\n",
       "  display: none;\n",
       "}\n",
       "\n",
       "div.sk-parallel-item,\n",
       "div.sk-serial,\n",
       "div.sk-item {\n",
       "  /* draw centered vertical line to link estimators */\n",
       "  background-image: linear-gradient(var(--sklearn-color-text-on-default-background), var(--sklearn-color-text-on-default-background));\n",
       "  background-size: 2px 100%;\n",
       "  background-repeat: no-repeat;\n",
       "  background-position: center center;\n",
       "}\n",
       "\n",
       "/* Parallel-specific style estimator block */\n",
       "\n",
       "#sk-container-id-1 div.sk-parallel-item::after {\n",
       "  content: \"\";\n",
       "  width: 100%;\n",
       "  border-bottom: 2px solid var(--sklearn-color-text-on-default-background);\n",
       "  flex-grow: 1;\n",
       "}\n",
       "\n",
       "#sk-container-id-1 div.sk-parallel {\n",
       "  display: flex;\n",
       "  align-items: stretch;\n",
       "  justify-content: center;\n",
       "  background-color: var(--sklearn-color-background);\n",
       "  position: relative;\n",
       "}\n",
       "\n",
       "#sk-container-id-1 div.sk-parallel-item {\n",
       "  display: flex;\n",
       "  flex-direction: column;\n",
       "}\n",
       "\n",
       "#sk-container-id-1 div.sk-parallel-item:first-child::after {\n",
       "  align-self: flex-end;\n",
       "  width: 50%;\n",
       "}\n",
       "\n",
       "#sk-container-id-1 div.sk-parallel-item:last-child::after {\n",
       "  align-self: flex-start;\n",
       "  width: 50%;\n",
       "}\n",
       "\n",
       "#sk-container-id-1 div.sk-parallel-item:only-child::after {\n",
       "  width: 0;\n",
       "}\n",
       "\n",
       "/* Serial-specific style estimator block */\n",
       "\n",
       "#sk-container-id-1 div.sk-serial {\n",
       "  display: flex;\n",
       "  flex-direction: column;\n",
       "  align-items: center;\n",
       "  background-color: var(--sklearn-color-background);\n",
       "  padding-right: 1em;\n",
       "  padding-left: 1em;\n",
       "}\n",
       "\n",
       "\n",
       "/* Toggleable style: style used for estimator/Pipeline/ColumnTransformer box that is\n",
       "clickable and can be expanded/collapsed.\n",
       "- Pipeline and ColumnTransformer use this feature and define the default style\n",
       "- Estimators will overwrite some part of the style using the `sk-estimator` class\n",
       "*/\n",
       "\n",
       "/* Pipeline and ColumnTransformer style (default) */\n",
       "\n",
       "#sk-container-id-1 div.sk-toggleable {\n",
       "  /* Default theme specific background. It is overwritten whether we have a\n",
       "  specific estimator or a Pipeline/ColumnTransformer */\n",
       "  background-color: var(--sklearn-color-background);\n",
       "}\n",
       "\n",
       "/* Toggleable label */\n",
       "#sk-container-id-1 label.sk-toggleable__label {\n",
       "  cursor: pointer;\n",
       "  display: flex;\n",
       "  width: 100%;\n",
       "  margin-bottom: 0;\n",
       "  padding: 0.5em;\n",
       "  box-sizing: border-box;\n",
       "  text-align: center;\n",
       "  align-items: start;\n",
       "  justify-content: space-between;\n",
       "  gap: 0.5em;\n",
       "}\n",
       "\n",
       "#sk-container-id-1 label.sk-toggleable__label .caption {\n",
       "  font-size: 0.6rem;\n",
       "  font-weight: lighter;\n",
       "  color: var(--sklearn-color-text-muted);\n",
       "}\n",
       "\n",
       "#sk-container-id-1 label.sk-toggleable__label-arrow:before {\n",
       "  /* Arrow on the left of the label */\n",
       "  content: \"▸\";\n",
       "  float: left;\n",
       "  margin-right: 0.25em;\n",
       "  color: var(--sklearn-color-icon);\n",
       "}\n",
       "\n",
       "#sk-container-id-1 label.sk-toggleable__label-arrow:hover:before {\n",
       "  color: var(--sklearn-color-text);\n",
       "}\n",
       "\n",
       "/* Toggleable content - dropdown */\n",
       "\n",
       "#sk-container-id-1 div.sk-toggleable__content {\n",
       "  max-height: 0;\n",
       "  max-width: 0;\n",
       "  overflow: hidden;\n",
       "  text-align: left;\n",
       "  /* unfitted */\n",
       "  background-color: var(--sklearn-color-unfitted-level-0);\n",
       "}\n",
       "\n",
       "#sk-container-id-1 div.sk-toggleable__content.fitted {\n",
       "  /* fitted */\n",
       "  background-color: var(--sklearn-color-fitted-level-0);\n",
       "}\n",
       "\n",
       "#sk-container-id-1 div.sk-toggleable__content pre {\n",
       "  margin: 0.2em;\n",
       "  border-radius: 0.25em;\n",
       "  color: var(--sklearn-color-text);\n",
       "  /* unfitted */\n",
       "  background-color: var(--sklearn-color-unfitted-level-0);\n",
       "}\n",
       "\n",
       "#sk-container-id-1 div.sk-toggleable__content.fitted pre {\n",
       "  /* unfitted */\n",
       "  background-color: var(--sklearn-color-fitted-level-0);\n",
       "}\n",
       "\n",
       "#sk-container-id-1 input.sk-toggleable__control:checked~div.sk-toggleable__content {\n",
       "  /* Expand drop-down */\n",
       "  max-height: 200px;\n",
       "  max-width: 100%;\n",
       "  overflow: auto;\n",
       "}\n",
       "\n",
       "#sk-container-id-1 input.sk-toggleable__control:checked~label.sk-toggleable__label-arrow:before {\n",
       "  content: \"▾\";\n",
       "}\n",
       "\n",
       "/* Pipeline/ColumnTransformer-specific style */\n",
       "\n",
       "#sk-container-id-1 div.sk-label input.sk-toggleable__control:checked~label.sk-toggleable__label {\n",
       "  color: var(--sklearn-color-text);\n",
       "  background-color: var(--sklearn-color-unfitted-level-2);\n",
       "}\n",
       "\n",
       "#sk-container-id-1 div.sk-label.fitted input.sk-toggleable__control:checked~label.sk-toggleable__label {\n",
       "  background-color: var(--sklearn-color-fitted-level-2);\n",
       "}\n",
       "\n",
       "/* Estimator-specific style */\n",
       "\n",
       "/* Colorize estimator box */\n",
       "#sk-container-id-1 div.sk-estimator input.sk-toggleable__control:checked~label.sk-toggleable__label {\n",
       "  /* unfitted */\n",
       "  background-color: var(--sklearn-color-unfitted-level-2);\n",
       "}\n",
       "\n",
       "#sk-container-id-1 div.sk-estimator.fitted input.sk-toggleable__control:checked~label.sk-toggleable__label {\n",
       "  /* fitted */\n",
       "  background-color: var(--sklearn-color-fitted-level-2);\n",
       "}\n",
       "\n",
       "#sk-container-id-1 div.sk-label label.sk-toggleable__label,\n",
       "#sk-container-id-1 div.sk-label label {\n",
       "  /* The background is the default theme color */\n",
       "  color: var(--sklearn-color-text-on-default-background);\n",
       "}\n",
       "\n",
       "/* On hover, darken the color of the background */\n",
       "#sk-container-id-1 div.sk-label:hover label.sk-toggleable__label {\n",
       "  color: var(--sklearn-color-text);\n",
       "  background-color: var(--sklearn-color-unfitted-level-2);\n",
       "}\n",
       "\n",
       "/* Label box, darken color on hover, fitted */\n",
       "#sk-container-id-1 div.sk-label.fitted:hover label.sk-toggleable__label.fitted {\n",
       "  color: var(--sklearn-color-text);\n",
       "  background-color: var(--sklearn-color-fitted-level-2);\n",
       "}\n",
       "\n",
       "/* Estimator label */\n",
       "\n",
       "#sk-container-id-1 div.sk-label label {\n",
       "  font-family: monospace;\n",
       "  font-weight: bold;\n",
       "  display: inline-block;\n",
       "  line-height: 1.2em;\n",
       "}\n",
       "\n",
       "#sk-container-id-1 div.sk-label-container {\n",
       "  text-align: center;\n",
       "}\n",
       "\n",
       "/* Estimator-specific */\n",
       "#sk-container-id-1 div.sk-estimator {\n",
       "  font-family: monospace;\n",
       "  border: 1px dotted var(--sklearn-color-border-box);\n",
       "  border-radius: 0.25em;\n",
       "  box-sizing: border-box;\n",
       "  margin-bottom: 0.5em;\n",
       "  /* unfitted */\n",
       "  background-color: var(--sklearn-color-unfitted-level-0);\n",
       "}\n",
       "\n",
       "#sk-container-id-1 div.sk-estimator.fitted {\n",
       "  /* fitted */\n",
       "  background-color: var(--sklearn-color-fitted-level-0);\n",
       "}\n",
       "\n",
       "/* on hover */\n",
       "#sk-container-id-1 div.sk-estimator:hover {\n",
       "  /* unfitted */\n",
       "  background-color: var(--sklearn-color-unfitted-level-2);\n",
       "}\n",
       "\n",
       "#sk-container-id-1 div.sk-estimator.fitted:hover {\n",
       "  /* fitted */\n",
       "  background-color: var(--sklearn-color-fitted-level-2);\n",
       "}\n",
       "\n",
       "/* Specification for estimator info (e.g. \"i\" and \"?\") */\n",
       "\n",
       "/* Common style for \"i\" and \"?\" */\n",
       "\n",
       ".sk-estimator-doc-link,\n",
       "a:link.sk-estimator-doc-link,\n",
       "a:visited.sk-estimator-doc-link {\n",
       "  float: right;\n",
       "  font-size: smaller;\n",
       "  line-height: 1em;\n",
       "  font-family: monospace;\n",
       "  background-color: var(--sklearn-color-background);\n",
       "  border-radius: 1em;\n",
       "  height: 1em;\n",
       "  width: 1em;\n",
       "  text-decoration: none !important;\n",
       "  margin-left: 0.5em;\n",
       "  text-align: center;\n",
       "  /* unfitted */\n",
       "  border: var(--sklearn-color-unfitted-level-1) 1pt solid;\n",
       "  color: var(--sklearn-color-unfitted-level-1);\n",
       "}\n",
       "\n",
       ".sk-estimator-doc-link.fitted,\n",
       "a:link.sk-estimator-doc-link.fitted,\n",
       "a:visited.sk-estimator-doc-link.fitted {\n",
       "  /* fitted */\n",
       "  border: var(--sklearn-color-fitted-level-1) 1pt solid;\n",
       "  color: var(--sklearn-color-fitted-level-1);\n",
       "}\n",
       "\n",
       "/* On hover */\n",
       "div.sk-estimator:hover .sk-estimator-doc-link:hover,\n",
       ".sk-estimator-doc-link:hover,\n",
       "div.sk-label-container:hover .sk-estimator-doc-link:hover,\n",
       ".sk-estimator-doc-link:hover {\n",
       "  /* unfitted */\n",
       "  background-color: var(--sklearn-color-unfitted-level-3);\n",
       "  color: var(--sklearn-color-background);\n",
       "  text-decoration: none;\n",
       "}\n",
       "\n",
       "div.sk-estimator.fitted:hover .sk-estimator-doc-link.fitted:hover,\n",
       ".sk-estimator-doc-link.fitted:hover,\n",
       "div.sk-label-container:hover .sk-estimator-doc-link.fitted:hover,\n",
       ".sk-estimator-doc-link.fitted:hover {\n",
       "  /* fitted */\n",
       "  background-color: var(--sklearn-color-fitted-level-3);\n",
       "  color: var(--sklearn-color-background);\n",
       "  text-decoration: none;\n",
       "}\n",
       "\n",
       "/* Span, style for the box shown on hovering the info icon */\n",
       ".sk-estimator-doc-link span {\n",
       "  display: none;\n",
       "  z-index: 9999;\n",
       "  position: relative;\n",
       "  font-weight: normal;\n",
       "  right: .2ex;\n",
       "  padding: .5ex;\n",
       "  margin: .5ex;\n",
       "  width: min-content;\n",
       "  min-width: 20ex;\n",
       "  max-width: 50ex;\n",
       "  color: var(--sklearn-color-text);\n",
       "  box-shadow: 2pt 2pt 4pt #999;\n",
       "  /* unfitted */\n",
       "  background: var(--sklearn-color-unfitted-level-0);\n",
       "  border: .5pt solid var(--sklearn-color-unfitted-level-3);\n",
       "}\n",
       "\n",
       ".sk-estimator-doc-link.fitted span {\n",
       "  /* fitted */\n",
       "  background: var(--sklearn-color-fitted-level-0);\n",
       "  border: var(--sklearn-color-fitted-level-3);\n",
       "}\n",
       "\n",
       ".sk-estimator-doc-link:hover span {\n",
       "  display: block;\n",
       "}\n",
       "\n",
       "/* \"?\"-specific style due to the `<a>` HTML tag */\n",
       "\n",
       "#sk-container-id-1 a.estimator_doc_link {\n",
       "  float: right;\n",
       "  font-size: 1rem;\n",
       "  line-height: 1em;\n",
       "  font-family: monospace;\n",
       "  background-color: var(--sklearn-color-background);\n",
       "  border-radius: 1rem;\n",
       "  height: 1rem;\n",
       "  width: 1rem;\n",
       "  text-decoration: none;\n",
       "  /* unfitted */\n",
       "  color: var(--sklearn-color-unfitted-level-1);\n",
       "  border: var(--sklearn-color-unfitted-level-1) 1pt solid;\n",
       "}\n",
       "\n",
       "#sk-container-id-1 a.estimator_doc_link.fitted {\n",
       "  /* fitted */\n",
       "  border: var(--sklearn-color-fitted-level-1) 1pt solid;\n",
       "  color: var(--sklearn-color-fitted-level-1);\n",
       "}\n",
       "\n",
       "/* On hover */\n",
       "#sk-container-id-1 a.estimator_doc_link:hover {\n",
       "  /* unfitted */\n",
       "  background-color: var(--sklearn-color-unfitted-level-3);\n",
       "  color: var(--sklearn-color-background);\n",
       "  text-decoration: none;\n",
       "}\n",
       "\n",
       "#sk-container-id-1 a.estimator_doc_link.fitted:hover {\n",
       "  /* fitted */\n",
       "  background-color: var(--sklearn-color-fitted-level-3);\n",
       "}\n",
       "</style><div id=\"sk-container-id-1\" class=\"sk-top-container\"><div class=\"sk-text-repr-fallback\"><pre>LinearRegression()</pre><b>In a Jupyter environment, please rerun this cell to show the HTML representation or trust the notebook. <br />On GitHub, the HTML representation is unable to render, please try loading this page with nbviewer.org.</b></div><div class=\"sk-container\" hidden><div class=\"sk-item\"><div class=\"sk-estimator fitted sk-toggleable\"><input class=\"sk-toggleable__control sk-hidden--visually\" id=\"sk-estimator-id-1\" type=\"checkbox\" checked><label for=\"sk-estimator-id-1\" class=\"sk-toggleable__label fitted sk-toggleable__label-arrow\"><div><div>LinearRegression</div></div><div><a class=\"sk-estimator-doc-link fitted\" rel=\"noreferrer\" target=\"_blank\" href=\"https://scikit-learn.org/1.6/modules/generated/sklearn.linear_model.LinearRegression.html\">?<span>Documentation for LinearRegression</span></a><span class=\"sk-estimator-doc-link fitted\">i<span>Fitted</span></span></div></label><div class=\"sk-toggleable__content fitted\"><pre>LinearRegression()</pre></div> </div></div></div></div>"
      ],
      "text/plain": [
       "LinearRegression()"
      ]
     },
     "execution_count": 41,
     "metadata": {},
     "output_type": "execute_result"
    }
   ],
   "source": [
    "regression = LinearRegression()\n",
    "regression.fit(X_train, y_train)"
   ]
  },
  {
   "cell_type": "markdown",
   "metadata": {},
   "source": [
    "### Interpretación de los coeficientes y del intercepto\n"
   ]
  },
  {
   "cell_type": "markdown",
   "metadata": {},
   "source": [
    "### 5.1. Interpretación de los coeficientes y del intercepto\n"
   ]
  },
  {
   "cell_type": "markdown",
   "metadata": {},
   "source": [
    "El modelo de regresión lineal utiliza el valor de corrimiento al rojo (redshift) como variable dependiente y evalúa múltiples predictores astronómicos y fotométricos. Las estadísticas del valor objetivo muestran que tiene un promedio de 0.133 con un rango que va desde valores cercanos a cero hasta 4.19, y presenta una alta concentración de datos en los cuartiles inferiores, reflejando su asimetría. "
   ]
  },
  {
   "cell_type": "code",
   "execution_count": 42,
   "metadata": {},
   "outputs": [
    {
     "data": {
      "text/plain": [
       "count    3385.000000\n",
       "mean        0.133911\n",
       "std         0.384745\n",
       "min        -0.003322\n",
       "25%         0.000105\n",
       "50%         0.031401\n",
       "75%         0.086192\n",
       "max         4.192597\n",
       "Name: redshift, dtype: float64"
      ]
     },
     "execution_count": 42,
     "metadata": {},
     "output_type": "execute_result"
    }
   ],
   "source": [
    "y_train.describe()"
   ]
  },
  {
   "cell_type": "markdown",
   "metadata": {},
   "source": [
    "En cuanto a los coeficientes de la regresión, variables como la velocidad horizontal (*rowv*) y la velocidad vertical (*colv*) tienen un impacto considerable, siendo *rowv* negativa y *colv* positiva, lo que sugiere que mayores velocidades en estas direcciones pueden influir significativamente en el corrimiento al rojo. Las magnitudes fotométricas como *u* e *i* presentan efectos positivos, especialmente *i*, lo que implica que los objetos más brillantes en el infrarrojo tienden a tener mayores valores de *redshift*. El indicador *clean* también tiene un impacto positivo moderado, indicando que la confiabilidad en la fotometría está asociada con un mayor *redshift*. Por otro lado, las variables categóricas muestran que los quásares (*class_QSO*) contribuyen fuertemente al corrimiento al rojo, mientras que las estrellas (*class_STAR*) tienen un efecto opuesto. Finalmente, variables como *ra*, *dec*, y *field* tienen impactos muy pequeños, sugiriendo que no aportan un cambio significativo al valor de *redshift*. Esto evidencia que la combinación de características dinámicas (como velocidades) y fotométricas son los principales predictores del corrimiento al rojo en el modelo. En cuanto al intercepto del modelo es -1.1648, lo que representa el valor promedio del redshift cuando todas las variables predictoras se encuentran en cero. Aunque este valor no tiene una interpretación física directa, ya que varias variables como u, i, y score no pueden ser cero, sugiere que en ausencia de contribuciones de las variables predictoras, el modelo estima un valor base de corrimiento al rojo negativo. Esto evidencia que la combinación de características dinámicas (como velocidades) y fotométricas son los principales predictores del corrimiento al rojo en el modelo. "
   ]
  },
  {
   "cell_type": "code",
   "execution_count": 43,
   "metadata": {},
   "outputs": [
    {
     "name": "stdout",
     "output_type": "stream",
     "text": [
      "El intercepto es: -1.1875415752247838\n"
     ]
    },
    {
     "data": {
      "text/html": [
       "<div>\n",
       "<style scoped>\n",
       "    .dataframe tbody tr th:only-of-type {\n",
       "        vertical-align: middle;\n",
       "    }\n",
       "\n",
       "    .dataframe tbody tr th {\n",
       "        vertical-align: top;\n",
       "    }\n",
       "\n",
       "    .dataframe thead th {\n",
       "        text-align: right;\n",
       "    }\n",
       "</style>\n",
       "<table border=\"1\" class=\"dataframe\">\n",
       "  <thead>\n",
       "    <tr style=\"text-align: right;\">\n",
       "      <th></th>\n",
       "      <th>columns</th>\n",
       "      <th>coef</th>\n",
       "    </tr>\n",
       "  </thead>\n",
       "  <tbody>\n",
       "    <tr>\n",
       "      <th>0</th>\n",
       "      <td>ra</td>\n",
       "      <td>-0.000142</td>\n",
       "    </tr>\n",
       "    <tr>\n",
       "      <th>1</th>\n",
       "      <td>dec</td>\n",
       "      <td>-0.002984</td>\n",
       "    </tr>\n",
       "    <tr>\n",
       "      <th>2</th>\n",
       "      <td>u</td>\n",
       "      <td>0.003205</td>\n",
       "    </tr>\n",
       "    <tr>\n",
       "      <th>3</th>\n",
       "      <td>i</td>\n",
       "      <td>0.015268</td>\n",
       "    </tr>\n",
       "    <tr>\n",
       "      <th>4</th>\n",
       "      <td>field</td>\n",
       "      <td>0.000009</td>\n",
       "    </tr>\n",
       "    <tr>\n",
       "      <th>5</th>\n",
       "      <td>score</td>\n",
       "      <td>-0.047008</td>\n",
       "    </tr>\n",
       "    <tr>\n",
       "      <th>6</th>\n",
       "      <td>clean</td>\n",
       "      <td>0.009553</td>\n",
       "    </tr>\n",
       "    <tr>\n",
       "      <th>7</th>\n",
       "      <td>mjd</td>\n",
       "      <td>0.000019</td>\n",
       "    </tr>\n",
       "    <tr>\n",
       "      <th>8</th>\n",
       "      <td>rowv</td>\n",
       "      <td>-0.552711</td>\n",
       "    </tr>\n",
       "    <tr>\n",
       "      <th>9</th>\n",
       "      <td>colv</td>\n",
       "      <td>0.260500</td>\n",
       "    </tr>\n",
       "    <tr>\n",
       "      <th>10</th>\n",
       "      <td>class_QSO</td>\n",
       "      <td>1.205332</td>\n",
       "    </tr>\n",
       "    <tr>\n",
       "      <th>11</th>\n",
       "      <td>class_STAR</td>\n",
       "      <td>-0.125935</td>\n",
       "    </tr>\n",
       "    <tr>\n",
       "      <th>12</th>\n",
       "      <td>camcol_2</td>\n",
       "      <td>0.023890</td>\n",
       "    </tr>\n",
       "    <tr>\n",
       "      <th>13</th>\n",
       "      <td>camcol_3</td>\n",
       "      <td>-0.013936</td>\n",
       "    </tr>\n",
       "    <tr>\n",
       "      <th>14</th>\n",
       "      <td>camcol_4</td>\n",
       "      <td>0.021990</td>\n",
       "    </tr>\n",
       "    <tr>\n",
       "      <th>15</th>\n",
       "      <td>camcol_5</td>\n",
       "      <td>0.011805</td>\n",
       "    </tr>\n",
       "    <tr>\n",
       "      <th>16</th>\n",
       "      <td>camcol_6</td>\n",
       "      <td>0.005223</td>\n",
       "    </tr>\n",
       "  </tbody>\n",
       "</table>\n",
       "</div>"
      ],
      "text/plain": [
       "       columns      coef\n",
       "0           ra -0.000142\n",
       "1          dec -0.002984\n",
       "2            u  0.003205\n",
       "3            i  0.015268\n",
       "4        field  0.000009\n",
       "5        score -0.047008\n",
       "6        clean  0.009553\n",
       "7          mjd  0.000019\n",
       "8         rowv -0.552711\n",
       "9         colv  0.260500\n",
       "10   class_QSO  1.205332\n",
       "11  class_STAR -0.125935\n",
       "12    camcol_2  0.023890\n",
       "13    camcol_3 -0.013936\n",
       "14    camcol_4  0.021990\n",
       "15    camcol_5  0.011805\n",
       "16    camcol_6  0.005223"
      ]
     },
     "execution_count": 43,
     "metadata": {},
     "output_type": "execute_result"
    }
   ],
   "source": [
    "print(\"El intercepto es:\", regression.intercept_)\n",
    "pd.DataFrame({\"columns\": features, \"coef\": regression.coef_})"
   ]
  },
  {
   "cell_type": "code",
   "execution_count": 44,
   "metadata": {},
   "outputs": [],
   "source": [
    "f, axs = plt.subplots(1, len(features), sharey=True, figsize=(20, 4))\n",
    "\n",
    "for i in range(0, len(features)):\n",
    "    col = features[i]\n",
    "    x = X_train[col]\n",
    "    m = regression.coef_[i]\n",
    "    b = regression.intercept_\n",
    "\n",
    "    axs[i].plot(x, y_train, \"o\", alpha=0.1)\n",
    "    axs[i].plot(x, x * m + b)\n",
    "    axs[i].set_title(col)"
   ]
  },
  {
   "cell_type": "markdown",
   "metadata": {},
   "source": [
    "### 5.2 Validación y metricas de calidad del modelo\n",
    "\n",
    "La forma más básica para saber que tan bien se comporta el modelo es midiendo que tanto se alejan las estimaciones o predicciones del mismo respecto a la variable objetivo real. Esta medición se puede hacer tanto para el conjunto de datos de entrenamiento como para el de prueba.\n",
    "**Mean Absolute Error (MAE)**\n",
    "\n",
    "$$ MAE = {1 \\over n}{\\sum_{i=1}^n {|y_{i} - y_{i}'|} } $$"
   ]
  },
  {
   "cell_type": "markdown",
   "metadata": {},
   "source": [
    "Como se puede observar las métrica de error MAE para el dataset de entrenamiento y prueba son muy similares. No se evidencian problemas de sobreajuste (overfitting)."
   ]
  },
  {
   "cell_type": "code",
   "execution_count": 45,
   "metadata": {},
   "outputs": [
    {
     "name": "stdout",
     "output_type": "stream",
     "text": [
      "Train: 0.06705743341365451\n",
      "Test: 0.06850499785866446\n"
     ]
    }
   ],
   "source": [
    "print(\"Train:\", mean_absolute_error(y_train, regression.predict(X_train)))\n",
    "print(\"Test:\", mean_absolute_error(y_test, regression.predict(X_test)))"
   ]
  },
  {
   "cell_type": "markdown",
   "metadata": {},
   "source": [
    "**Root Mean Squeared Error (RMSE)**\n",
    "\n",
    "$$ RMSE = {1 \\over n}{\\sum_{i=1}^n {(y_{i} - y_{i}')^2} } $$"
   ]
  },
  {
   "cell_type": "markdown",
   "metadata": {},
   "source": [
    "Como se puede observar las métrica de error RMSE para el dataset de entrenamiento y prueba son muy similares. No se evidencian problemas de sobreajuste (overfitting)."
   ]
  },
  {
   "cell_type": "code",
   "execution_count": 46,
   "metadata": {},
   "outputs": [
    {
     "name": "stdout",
     "output_type": "stream",
     "text": [
      "Train: 0.18666861479943958\n",
      "Test: 0.17183142497295487\n"
     ]
    }
   ],
   "source": [
    "print(\"Train:\", np.sqrt(mean_squared_error(y_train, regression.predict(X_train))))\n",
    "print(\"Test:\", np.sqrt(mean_squared_error(y_test, regression.predict(X_test))))"
   ]
  },
  {
   "cell_type": "markdown",
   "metadata": {},
   "source": [
    "**Coeficiente de Determinación (R²)**\n",
    "\n",
    "$$\n",
    "R^2 = 1 - \\frac{\\sum_{i=1}^n{(y_i - y_i')^2}}{\\sum_{i=1}^n{(y_i - \\bar{y})^2}}\n",
    "$$"
   ]
  },
  {
   "cell_type": "code",
   "execution_count": 47,
   "metadata": {},
   "outputs": [
    {
     "name": "stdout",
     "output_type": "stream",
     "text": [
      "Train: 0.7645354555690258\n",
      "Test: 0.7662696328517202\n"
     ]
    }
   ],
   "source": [
    "print(\"Train:\", r2_score(y_train, regression.predict(X_train)))\n",
    "print(\"Test:\", r2_score(y_test, regression.predict(X_test)))"
   ]
  },
  {
   "cell_type": "code",
   "execution_count": 48,
   "metadata": {},
   "outputs": [
    {
     "name": "stderr",
     "output_type": "stream",
     "text": [
      "/var/folders/6x/ddh0g_5x1n9bysm0_rz1s92r0000gn/T/ipykernel_63262/2713676096.py:5: UserWarning: FigureCanvasAgg is non-interactive, and thus cannot be shown\n",
      "  plt.show()\n"
     ]
    }
   ],
   "source": [
    "plt.figure(figsize=(20, 3))\n",
    "sns.boxplot(x=y_test, showmeans=True, orient=\"h\")\n",
    "plt.title(\"Valor real de $\\t{redshift}$ en el conjunto de prueba\")\n",
    "plt.grid()\n",
    "plt.show()"
   ]
  },
  {
   "cell_type": "code",
   "execution_count": 49,
   "metadata": {},
   "outputs": [
    {
     "data": {
      "text/plain": [
       "count    598.000000\n",
       "mean       0.136443\n",
       "std        0.355720\n",
       "min       -0.000964\n",
       "25%        0.000116\n",
       "50%        0.033778\n",
       "75%        0.091513\n",
       "99%        1.845376\n",
       "max        2.601201\n",
       "Name: redshift, dtype: float64"
      ]
     },
     "execution_count": 49,
     "metadata": {},
     "output_type": "execute_result"
    }
   ],
   "source": [
    "y_test.describe(percentiles=[0.25, 0.5, 0.75, 0.99])"
   ]
  },
  {
   "cell_type": "markdown",
   "metadata": {},
   "source": [
    "Como se puede observar en el box plot y en las estadisticas del redshift donde la media (0.1418) es notablemente mayor que la mediana (0.0354), lo que indica que la distribución es asimétrica y presenta una cola a la derecha (algunos valores muy altos que elevan la media).\n",
    "La mayoría de los valores (hasta el 75%) se concentran en rangos muy bajos (inferiores a 0.09), mientras que existen valores extremos que elevan el percentil 99 y el máximo."
   ]
  },
  {
   "cell_type": "code",
   "execution_count": 50,
   "metadata": {},
   "outputs": [
    {
     "name": "stderr",
     "output_type": "stream",
     "text": [
      "/var/folders/6x/ddh0g_5x1n9bysm0_rz1s92r0000gn/T/ipykernel_63262/556842508.py:6: UserWarning: FigureCanvasAgg is non-interactive, and thus cannot be shown\n",
      "  plt.show()\n"
     ]
    }
   ],
   "source": [
    "plt.figure(figsize=(20, 3))\n",
    "sns.boxplot(x=abs(y_test - regression.predict(X_test)), showmeans=True, orient=\"h\")\n",
    "plt.title(\"|Valor real - Valor estimado| de $\\t{redshift}$\")\n",
    "plt.xlabel(\"Error\")\n",
    "plt.grid()\n",
    "plt.show()"
   ]
  },
  {
   "cell_type": "code",
   "execution_count": 51,
   "metadata": {},
   "outputs": [
    {
     "data": {
      "text/plain": [
       "count    598.000000\n",
       "mean       0.068505\n",
       "std        0.157717\n",
       "min        0.000016\n",
       "25%        0.011771\n",
       "50%        0.026962\n",
       "75%        0.052642\n",
       "95%        0.321103\n",
       "99%        0.897972\n",
       "max        1.197203\n",
       "Name: redshift, dtype: float64"
      ]
     },
     "execution_count": 51,
     "metadata": {},
     "output_type": "execute_result"
    }
   ],
   "source": [
    "abs(y_test-regression.predict(X_test)).describe(percentiles=[0.25, 0.5, 0.75, 0.95, 0.99])"
   ]
  },
  {
   "cell_type": "markdown",
   "metadata": {},
   "source": [
    "La media de las predicciones (0.069) es aproximadamente la mitad de la media de los valores reales (0.14). La desviación estándar es menor (0.194 frente a 0.40), lo que indica que las predicciones están más concentradas en torno a su media y no capturan adecuadamente la dispersión real de los datos.\n",
    "Los percentiles altos (por ejemplo, 95% y 99%) de las predicciones son mucho menores que los correspondientes en los datos reales, lo que sugiere que el modelo tiende a subestimar los valores elevados de redshift."
   ]
  },
  {
   "cell_type": "markdown",
   "metadata": {},
   "source": [
    "**Analisis de las metricas**\n",
    "\n",
    "Aunque las métricas globales (MAE, RMSE y R^2) sugieren que el modelo de regresión lineal está funcionando de manera consistente en entrenamiento y prueba, el análisis de la distribución revela un sesgo importante: el modelo tiende a subestimar el redshift, especialmente en los valores elevados. Esto indica que, pese a un rendimiento aceptable en términos de error medio, existen áreas de mejora en cuanto a la captura de la variabilidad completa de la variable objetivo."
   ]
  },
  {
   "cell_type": "code",
   "execution_count": 52,
   "metadata": {},
   "outputs": [
    {
     "name": "stdout",
     "output_type": "stream",
     "text": [
      "Percentil 95 de y_test: 0.9859215349999993\n",
      "count    30.000000\n",
      "mean      0.334037\n",
      "std       0.283391\n",
      "min       0.001588\n",
      "25%       0.120941\n",
      "50%       0.241867\n",
      "75%       0.450308\n",
      "max       1.197203\n",
      "Name: redshift, dtype: float64\n"
     ]
    }
   ],
   "source": [
    "percentile_95 = y_test.quantile(0.95)\n",
    "print(f\"Percentil 95 de y_test: {percentile_95}\")\n",
    "# Filtrar los valores de redshift mayores a 1 en el conjunto de prueba\n",
    "y_test_filtered = y_test[y_test > percentile_95]\n",
    "X_test_filtered = X_test.loc[y_test_filtered.index]\n",
    "\n",
    "# Calcular el error absoluto de los valores de redshift del test y los obtenidos por el modelo de regresión\n",
    "errors = abs(y_test_filtered - regression.predict(X_test_filtered))\n",
    "\n",
    "# Mostrar los errores\n",
    "print(errors.describe())\n"
   ]
  },
  {
   "cell_type": "code",
   "execution_count": 53,
   "metadata": {},
   "outputs": [
    {
     "name": "stdout",
     "output_type": "stream",
     "text": [
      "Percentil 95 de y_test: 0.9859215349999993\n",
      "count    568.000000\n",
      "mean       0.054480\n",
      "std        0.134743\n",
      "min        0.000016\n",
      "25%        0.011331\n",
      "50%        0.024991\n",
      "75%        0.049318\n",
      "max        1.141506\n",
      "Name: redshift, dtype: float64\n"
     ]
    }
   ],
   "source": [
    "percentile_95 = y_test.quantile(0.95)\n",
    "print(f\"Percentil 95 de y_test: {percentile_95}\")\n",
    "# Filtrar los valores de redshift mayores a 1 en el conjunto de prueba\n",
    "y_test_filtered = y_test[y_test < percentile_95]\n",
    "X_test_filtered = X_test.loc[y_test_filtered.index]\n",
    "\n",
    "# Calcular el error absoluto de los valores de redshift del test y los obtenidos por el modelo de regresión\n",
    "errors = abs(y_test_filtered - regression.predict(X_test_filtered))\n",
    "\n",
    "# Mostrar los errores\n",
    "print(errors.describe())\n"
   ]
  },
  {
   "cell_type": "markdown",
   "metadata": {},
   "source": [
    "### 5.3 Análisis de los errores absolutos del modelo\n",
    "El análisis de los errores absolutos del modelo muestra que este tiene mayores dificultades para predecir correctamente los valores de *redshift* altos (por encima del percentil 95, es decir, alrededor de 1) en comparación con los valores más bajos. Para los valores mayores al percentil 95, el error promedio del modelo es de 0.49, con una desviación estándar de 0.56, alcanzando un máximo de 2.96. Esto contrasta significativamente con los errores de los valores por debajo del percentil 95, donde el error promedio es de solo 0.047, con una desviación estándar mucho menor de 0.11 y un máximo de 1.079. Esto evidencia que el modelo de regresión lineal es menos efectivo para capturar patrones asociados a valores de *redshift* más extremos, probablemente debido a que estos valores son menos frecuentes en los datos de entrenamiento, lo que limita su capacidad para generalizar en estos casos. Por lo tanto, sería recomendable explorar modelos más complejos o incluir características adicionales que puedan capturar mejor los comportamientos de los valores altos de *redshift*."
   ]
  },
  {
   "cell_type": "markdown",
   "metadata": {},
   "source": [
    "## 6. Implementación del pipeline con todas las transformaciones requeridas para la generación de predicciones, exportado en formato .joblib"
   ]
  },
  {
   "cell_type": "markdown",
   "metadata": {},
   "source": [
    "Primero se crean las funciones que se van a utilizar para hacer la transformación de los datos"
   ]
  },
  {
   "cell_type": "code",
   "execution_count": 54,
   "metadata": {},
   "outputs": [],
   "source": [
    "PosicionColumnas = X_train.columns\n",
    "def FiltrarDatos(data):\n",
    "    # 1. Eliminar las columnas no seleccionadas\n",
    "    data1 = data.drop(columns=[\"z\", \"g\", \"r\", \"run\", \"objid\"], errors=\"ignore\")\n",
    "    \n",
    "    # 2. Filtrar las filas para conservar solo las categorías deseadas en 'class'\n",
    "    data1[\"class\"] = data1[\"class\"].replace({\"S\": \"STAR\", \"G\": \"GALAXY\", \"QUASAR\": \"QSO\"})\n",
    "    \n",
    "    # 3. Convertir la columna 'class' en variables dummy (columnas binarias)\n",
    "    data2 = pd.get_dummies(data1, columns=[\"class\"], prefix=\"class\", drop_first=True)\n",
    "    \n",
    "    data3 = pd.get_dummies(data2, columns=[\"camcol\"], prefix=\"camcol\", drop_first=True)\n",
    "    # 4. Reordenar las columnas de data4 para que tengan el mismo orden que PosicionColumnas.\n",
    "    # Si alguna columna de PosicionColumnas no está en data4, se agregará con valor 0.\n",
    "    data4 = data3.reindex(columns=PosicionColumnas, fill_value=0)\n",
    "    \n",
    "    return data4.drop_duplicates(keep='first')\n",
    "\n",
    "\n",
    "prueba = FiltrarDatos(validation_data)\n"
   ]
  },
  {
   "cell_type": "code",
   "execution_count": 55,
   "metadata": {},
   "outputs": [],
   "source": [
    "from sklearn.pipeline import Pipeline\n",
    "from sklearn.preprocessing import StandardScaler, FunctionTransformer\n",
    "from sklearn.linear_model import LinearRegression\n",
    "import joblib\n",
    "\n",
    "# Crear el transformador para FiltrarDatos\n",
    "filtrar_transformer = FunctionTransformer(FiltrarDatos)\n",
    "\n",
    "# Crear el pipeline con la función personalizada\n",
    "pipeline = Pipeline(\n",
    "    [\n",
    "        (\"filtrar\", filtrar_transformer),  # Paso para filtrar los datos\n",
    "        (\"scaler\", StandardScaler()),     # Escalar las características\n",
    "        (\"model\", LinearRegression())     # Modelo de regresión lineal\n",
    "    ]\n",
    ")\n"
   ]
  },
  {
   "cell_type": "markdown",
   "metadata": {},
   "source": [
    "Esta vez se van a volver a dividir los datos de la base de datos pero esta vez se van a usar los datos limpios sin cambios para entrenar al nuevo modelo"
   ]
  },
  {
   "cell_type": "code",
   "execution_count": 56,
   "metadata": {},
   "outputs": [
    {
     "data": {
      "text/plain": [
       "((2788, 17), (2788,))"
      ]
     },
     "execution_count": 56,
     "metadata": {},
     "output_type": "execute_result"
    }
   ],
   "source": [
    "features = train_data_original.columns.drop(\"redshift\")  # Selecciona todas las columnas excepto \"redshift\"\n",
    "Datos_pipeline = clean_class(train_data_original)\n",
    "Datos_pipeline = Datos_pipeline.drop_duplicates(keep='first')\n",
    "X_train_pipeline, X_test_pipeline, y_train_pipeline, y_test_pipeline = train_test_split(Datos_pipeline[features], Datos_pipeline[\"redshift\"], test_size=0.3, random_state=1)\n",
    "X_train_pipeline.shape, y_train_pipeline.shape\n",
    "\n"
   ]
  },
  {
   "cell_type": "code",
   "execution_count": 57,
   "metadata": {},
   "outputs": [
    {
     "data": {
      "text/html": [
       "<style>#sk-container-id-2 {\n",
       "  /* Definition of color scheme common for light and dark mode */\n",
       "  --sklearn-color-text: #000;\n",
       "  --sklearn-color-text-muted: #666;\n",
       "  --sklearn-color-line: gray;\n",
       "  /* Definition of color scheme for unfitted estimators */\n",
       "  --sklearn-color-unfitted-level-0: #fff5e6;\n",
       "  --sklearn-color-unfitted-level-1: #f6e4d2;\n",
       "  --sklearn-color-unfitted-level-2: #ffe0b3;\n",
       "  --sklearn-color-unfitted-level-3: chocolate;\n",
       "  /* Definition of color scheme for fitted estimators */\n",
       "  --sklearn-color-fitted-level-0: #f0f8ff;\n",
       "  --sklearn-color-fitted-level-1: #d4ebff;\n",
       "  --sklearn-color-fitted-level-2: #b3dbfd;\n",
       "  --sklearn-color-fitted-level-3: cornflowerblue;\n",
       "\n",
       "  /* Specific color for light theme */\n",
       "  --sklearn-color-text-on-default-background: var(--sg-text-color, var(--theme-code-foreground, var(--jp-content-font-color1, black)));\n",
       "  --sklearn-color-background: var(--sg-background-color, var(--theme-background, var(--jp-layout-color0, white)));\n",
       "  --sklearn-color-border-box: var(--sg-text-color, var(--theme-code-foreground, var(--jp-content-font-color1, black)));\n",
       "  --sklearn-color-icon: #696969;\n",
       "\n",
       "  @media (prefers-color-scheme: dark) {\n",
       "    /* Redefinition of color scheme for dark theme */\n",
       "    --sklearn-color-text-on-default-background: var(--sg-text-color, var(--theme-code-foreground, var(--jp-content-font-color1, white)));\n",
       "    --sklearn-color-background: var(--sg-background-color, var(--theme-background, var(--jp-layout-color0, #111)));\n",
       "    --sklearn-color-border-box: var(--sg-text-color, var(--theme-code-foreground, var(--jp-content-font-color1, white)));\n",
       "    --sklearn-color-icon: #878787;\n",
       "  }\n",
       "}\n",
       "\n",
       "#sk-container-id-2 {\n",
       "  color: var(--sklearn-color-text);\n",
       "}\n",
       "\n",
       "#sk-container-id-2 pre {\n",
       "  padding: 0;\n",
       "}\n",
       "\n",
       "#sk-container-id-2 input.sk-hidden--visually {\n",
       "  border: 0;\n",
       "  clip: rect(1px 1px 1px 1px);\n",
       "  clip: rect(1px, 1px, 1px, 1px);\n",
       "  height: 1px;\n",
       "  margin: -1px;\n",
       "  overflow: hidden;\n",
       "  padding: 0;\n",
       "  position: absolute;\n",
       "  width: 1px;\n",
       "}\n",
       "\n",
       "#sk-container-id-2 div.sk-dashed-wrapped {\n",
       "  border: 1px dashed var(--sklearn-color-line);\n",
       "  margin: 0 0.4em 0.5em 0.4em;\n",
       "  box-sizing: border-box;\n",
       "  padding-bottom: 0.4em;\n",
       "  background-color: var(--sklearn-color-background);\n",
       "}\n",
       "\n",
       "#sk-container-id-2 div.sk-container {\n",
       "  /* jupyter's `normalize.less` sets `[hidden] { display: none; }`\n",
       "     but bootstrap.min.css set `[hidden] { display: none !important; }`\n",
       "     so we also need the `!important` here to be able to override the\n",
       "     default hidden behavior on the sphinx rendered scikit-learn.org.\n",
       "     See: https://github.com/scikit-learn/scikit-learn/issues/21755 */\n",
       "  display: inline-block !important;\n",
       "  position: relative;\n",
       "}\n",
       "\n",
       "#sk-container-id-2 div.sk-text-repr-fallback {\n",
       "  display: none;\n",
       "}\n",
       "\n",
       "div.sk-parallel-item,\n",
       "div.sk-serial,\n",
       "div.sk-item {\n",
       "  /* draw centered vertical line to link estimators */\n",
       "  background-image: linear-gradient(var(--sklearn-color-text-on-default-background), var(--sklearn-color-text-on-default-background));\n",
       "  background-size: 2px 100%;\n",
       "  background-repeat: no-repeat;\n",
       "  background-position: center center;\n",
       "}\n",
       "\n",
       "/* Parallel-specific style estimator block */\n",
       "\n",
       "#sk-container-id-2 div.sk-parallel-item::after {\n",
       "  content: \"\";\n",
       "  width: 100%;\n",
       "  border-bottom: 2px solid var(--sklearn-color-text-on-default-background);\n",
       "  flex-grow: 1;\n",
       "}\n",
       "\n",
       "#sk-container-id-2 div.sk-parallel {\n",
       "  display: flex;\n",
       "  align-items: stretch;\n",
       "  justify-content: center;\n",
       "  background-color: var(--sklearn-color-background);\n",
       "  position: relative;\n",
       "}\n",
       "\n",
       "#sk-container-id-2 div.sk-parallel-item {\n",
       "  display: flex;\n",
       "  flex-direction: column;\n",
       "}\n",
       "\n",
       "#sk-container-id-2 div.sk-parallel-item:first-child::after {\n",
       "  align-self: flex-end;\n",
       "  width: 50%;\n",
       "}\n",
       "\n",
       "#sk-container-id-2 div.sk-parallel-item:last-child::after {\n",
       "  align-self: flex-start;\n",
       "  width: 50%;\n",
       "}\n",
       "\n",
       "#sk-container-id-2 div.sk-parallel-item:only-child::after {\n",
       "  width: 0;\n",
       "}\n",
       "\n",
       "/* Serial-specific style estimator block */\n",
       "\n",
       "#sk-container-id-2 div.sk-serial {\n",
       "  display: flex;\n",
       "  flex-direction: column;\n",
       "  align-items: center;\n",
       "  background-color: var(--sklearn-color-background);\n",
       "  padding-right: 1em;\n",
       "  padding-left: 1em;\n",
       "}\n",
       "\n",
       "\n",
       "/* Toggleable style: style used for estimator/Pipeline/ColumnTransformer box that is\n",
       "clickable and can be expanded/collapsed.\n",
       "- Pipeline and ColumnTransformer use this feature and define the default style\n",
       "- Estimators will overwrite some part of the style using the `sk-estimator` class\n",
       "*/\n",
       "\n",
       "/* Pipeline and ColumnTransformer style (default) */\n",
       "\n",
       "#sk-container-id-2 div.sk-toggleable {\n",
       "  /* Default theme specific background. It is overwritten whether we have a\n",
       "  specific estimator or a Pipeline/ColumnTransformer */\n",
       "  background-color: var(--sklearn-color-background);\n",
       "}\n",
       "\n",
       "/* Toggleable label */\n",
       "#sk-container-id-2 label.sk-toggleable__label {\n",
       "  cursor: pointer;\n",
       "  display: flex;\n",
       "  width: 100%;\n",
       "  margin-bottom: 0;\n",
       "  padding: 0.5em;\n",
       "  box-sizing: border-box;\n",
       "  text-align: center;\n",
       "  align-items: start;\n",
       "  justify-content: space-between;\n",
       "  gap: 0.5em;\n",
       "}\n",
       "\n",
       "#sk-container-id-2 label.sk-toggleable__label .caption {\n",
       "  font-size: 0.6rem;\n",
       "  font-weight: lighter;\n",
       "  color: var(--sklearn-color-text-muted);\n",
       "}\n",
       "\n",
       "#sk-container-id-2 label.sk-toggleable__label-arrow:before {\n",
       "  /* Arrow on the left of the label */\n",
       "  content: \"▸\";\n",
       "  float: left;\n",
       "  margin-right: 0.25em;\n",
       "  color: var(--sklearn-color-icon);\n",
       "}\n",
       "\n",
       "#sk-container-id-2 label.sk-toggleable__label-arrow:hover:before {\n",
       "  color: var(--sklearn-color-text);\n",
       "}\n",
       "\n",
       "/* Toggleable content - dropdown */\n",
       "\n",
       "#sk-container-id-2 div.sk-toggleable__content {\n",
       "  max-height: 0;\n",
       "  max-width: 0;\n",
       "  overflow: hidden;\n",
       "  text-align: left;\n",
       "  /* unfitted */\n",
       "  background-color: var(--sklearn-color-unfitted-level-0);\n",
       "}\n",
       "\n",
       "#sk-container-id-2 div.sk-toggleable__content.fitted {\n",
       "  /* fitted */\n",
       "  background-color: var(--sklearn-color-fitted-level-0);\n",
       "}\n",
       "\n",
       "#sk-container-id-2 div.sk-toggleable__content pre {\n",
       "  margin: 0.2em;\n",
       "  border-radius: 0.25em;\n",
       "  color: var(--sklearn-color-text);\n",
       "  /* unfitted */\n",
       "  background-color: var(--sklearn-color-unfitted-level-0);\n",
       "}\n",
       "\n",
       "#sk-container-id-2 div.sk-toggleable__content.fitted pre {\n",
       "  /* unfitted */\n",
       "  background-color: var(--sklearn-color-fitted-level-0);\n",
       "}\n",
       "\n",
       "#sk-container-id-2 input.sk-toggleable__control:checked~div.sk-toggleable__content {\n",
       "  /* Expand drop-down */\n",
       "  max-height: 200px;\n",
       "  max-width: 100%;\n",
       "  overflow: auto;\n",
       "}\n",
       "\n",
       "#sk-container-id-2 input.sk-toggleable__control:checked~label.sk-toggleable__label-arrow:before {\n",
       "  content: \"▾\";\n",
       "}\n",
       "\n",
       "/* Pipeline/ColumnTransformer-specific style */\n",
       "\n",
       "#sk-container-id-2 div.sk-label input.sk-toggleable__control:checked~label.sk-toggleable__label {\n",
       "  color: var(--sklearn-color-text);\n",
       "  background-color: var(--sklearn-color-unfitted-level-2);\n",
       "}\n",
       "\n",
       "#sk-container-id-2 div.sk-label.fitted input.sk-toggleable__control:checked~label.sk-toggleable__label {\n",
       "  background-color: var(--sklearn-color-fitted-level-2);\n",
       "}\n",
       "\n",
       "/* Estimator-specific style */\n",
       "\n",
       "/* Colorize estimator box */\n",
       "#sk-container-id-2 div.sk-estimator input.sk-toggleable__control:checked~label.sk-toggleable__label {\n",
       "  /* unfitted */\n",
       "  background-color: var(--sklearn-color-unfitted-level-2);\n",
       "}\n",
       "\n",
       "#sk-container-id-2 div.sk-estimator.fitted input.sk-toggleable__control:checked~label.sk-toggleable__label {\n",
       "  /* fitted */\n",
       "  background-color: var(--sklearn-color-fitted-level-2);\n",
       "}\n",
       "\n",
       "#sk-container-id-2 div.sk-label label.sk-toggleable__label,\n",
       "#sk-container-id-2 div.sk-label label {\n",
       "  /* The background is the default theme color */\n",
       "  color: var(--sklearn-color-text-on-default-background);\n",
       "}\n",
       "\n",
       "/* On hover, darken the color of the background */\n",
       "#sk-container-id-2 div.sk-label:hover label.sk-toggleable__label {\n",
       "  color: var(--sklearn-color-text);\n",
       "  background-color: var(--sklearn-color-unfitted-level-2);\n",
       "}\n",
       "\n",
       "/* Label box, darken color on hover, fitted */\n",
       "#sk-container-id-2 div.sk-label.fitted:hover label.sk-toggleable__label.fitted {\n",
       "  color: var(--sklearn-color-text);\n",
       "  background-color: var(--sklearn-color-fitted-level-2);\n",
       "}\n",
       "\n",
       "/* Estimator label */\n",
       "\n",
       "#sk-container-id-2 div.sk-label label {\n",
       "  font-family: monospace;\n",
       "  font-weight: bold;\n",
       "  display: inline-block;\n",
       "  line-height: 1.2em;\n",
       "}\n",
       "\n",
       "#sk-container-id-2 div.sk-label-container {\n",
       "  text-align: center;\n",
       "}\n",
       "\n",
       "/* Estimator-specific */\n",
       "#sk-container-id-2 div.sk-estimator {\n",
       "  font-family: monospace;\n",
       "  border: 1px dotted var(--sklearn-color-border-box);\n",
       "  border-radius: 0.25em;\n",
       "  box-sizing: border-box;\n",
       "  margin-bottom: 0.5em;\n",
       "  /* unfitted */\n",
       "  background-color: var(--sklearn-color-unfitted-level-0);\n",
       "}\n",
       "\n",
       "#sk-container-id-2 div.sk-estimator.fitted {\n",
       "  /* fitted */\n",
       "  background-color: var(--sklearn-color-fitted-level-0);\n",
       "}\n",
       "\n",
       "/* on hover */\n",
       "#sk-container-id-2 div.sk-estimator:hover {\n",
       "  /* unfitted */\n",
       "  background-color: var(--sklearn-color-unfitted-level-2);\n",
       "}\n",
       "\n",
       "#sk-container-id-2 div.sk-estimator.fitted:hover {\n",
       "  /* fitted */\n",
       "  background-color: var(--sklearn-color-fitted-level-2);\n",
       "}\n",
       "\n",
       "/* Specification for estimator info (e.g. \"i\" and \"?\") */\n",
       "\n",
       "/* Common style for \"i\" and \"?\" */\n",
       "\n",
       ".sk-estimator-doc-link,\n",
       "a:link.sk-estimator-doc-link,\n",
       "a:visited.sk-estimator-doc-link {\n",
       "  float: right;\n",
       "  font-size: smaller;\n",
       "  line-height: 1em;\n",
       "  font-family: monospace;\n",
       "  background-color: var(--sklearn-color-background);\n",
       "  border-radius: 1em;\n",
       "  height: 1em;\n",
       "  width: 1em;\n",
       "  text-decoration: none !important;\n",
       "  margin-left: 0.5em;\n",
       "  text-align: center;\n",
       "  /* unfitted */\n",
       "  border: var(--sklearn-color-unfitted-level-1) 1pt solid;\n",
       "  color: var(--sklearn-color-unfitted-level-1);\n",
       "}\n",
       "\n",
       ".sk-estimator-doc-link.fitted,\n",
       "a:link.sk-estimator-doc-link.fitted,\n",
       "a:visited.sk-estimator-doc-link.fitted {\n",
       "  /* fitted */\n",
       "  border: var(--sklearn-color-fitted-level-1) 1pt solid;\n",
       "  color: var(--sklearn-color-fitted-level-1);\n",
       "}\n",
       "\n",
       "/* On hover */\n",
       "div.sk-estimator:hover .sk-estimator-doc-link:hover,\n",
       ".sk-estimator-doc-link:hover,\n",
       "div.sk-label-container:hover .sk-estimator-doc-link:hover,\n",
       ".sk-estimator-doc-link:hover {\n",
       "  /* unfitted */\n",
       "  background-color: var(--sklearn-color-unfitted-level-3);\n",
       "  color: var(--sklearn-color-background);\n",
       "  text-decoration: none;\n",
       "}\n",
       "\n",
       "div.sk-estimator.fitted:hover .sk-estimator-doc-link.fitted:hover,\n",
       ".sk-estimator-doc-link.fitted:hover,\n",
       "div.sk-label-container:hover .sk-estimator-doc-link.fitted:hover,\n",
       ".sk-estimator-doc-link.fitted:hover {\n",
       "  /* fitted */\n",
       "  background-color: var(--sklearn-color-fitted-level-3);\n",
       "  color: var(--sklearn-color-background);\n",
       "  text-decoration: none;\n",
       "}\n",
       "\n",
       "/* Span, style for the box shown on hovering the info icon */\n",
       ".sk-estimator-doc-link span {\n",
       "  display: none;\n",
       "  z-index: 9999;\n",
       "  position: relative;\n",
       "  font-weight: normal;\n",
       "  right: .2ex;\n",
       "  padding: .5ex;\n",
       "  margin: .5ex;\n",
       "  width: min-content;\n",
       "  min-width: 20ex;\n",
       "  max-width: 50ex;\n",
       "  color: var(--sklearn-color-text);\n",
       "  box-shadow: 2pt 2pt 4pt #999;\n",
       "  /* unfitted */\n",
       "  background: var(--sklearn-color-unfitted-level-0);\n",
       "  border: .5pt solid var(--sklearn-color-unfitted-level-3);\n",
       "}\n",
       "\n",
       ".sk-estimator-doc-link.fitted span {\n",
       "  /* fitted */\n",
       "  background: var(--sklearn-color-fitted-level-0);\n",
       "  border: var(--sklearn-color-fitted-level-3);\n",
       "}\n",
       "\n",
       ".sk-estimator-doc-link:hover span {\n",
       "  display: block;\n",
       "}\n",
       "\n",
       "/* \"?\"-specific style due to the `<a>` HTML tag */\n",
       "\n",
       "#sk-container-id-2 a.estimator_doc_link {\n",
       "  float: right;\n",
       "  font-size: 1rem;\n",
       "  line-height: 1em;\n",
       "  font-family: monospace;\n",
       "  background-color: var(--sklearn-color-background);\n",
       "  border-radius: 1rem;\n",
       "  height: 1rem;\n",
       "  width: 1rem;\n",
       "  text-decoration: none;\n",
       "  /* unfitted */\n",
       "  color: var(--sklearn-color-unfitted-level-1);\n",
       "  border: var(--sklearn-color-unfitted-level-1) 1pt solid;\n",
       "}\n",
       "\n",
       "#sk-container-id-2 a.estimator_doc_link.fitted {\n",
       "  /* fitted */\n",
       "  border: var(--sklearn-color-fitted-level-1) 1pt solid;\n",
       "  color: var(--sklearn-color-fitted-level-1);\n",
       "}\n",
       "\n",
       "/* On hover */\n",
       "#sk-container-id-2 a.estimator_doc_link:hover {\n",
       "  /* unfitted */\n",
       "  background-color: var(--sklearn-color-unfitted-level-3);\n",
       "  color: var(--sklearn-color-background);\n",
       "  text-decoration: none;\n",
       "}\n",
       "\n",
       "#sk-container-id-2 a.estimator_doc_link.fitted:hover {\n",
       "  /* fitted */\n",
       "  background-color: var(--sklearn-color-fitted-level-3);\n",
       "}\n",
       "</style><div id=\"sk-container-id-2\" class=\"sk-top-container\"><div class=\"sk-text-repr-fallback\"><pre>Pipeline(steps=[(&#x27;filtrar&#x27;,\n",
       "                 FunctionTransformer(func=&lt;function FiltrarDatos at 0x14179e040&gt;)),\n",
       "                (&#x27;scaler&#x27;, StandardScaler()), (&#x27;model&#x27;, LinearRegression())])</pre><b>In a Jupyter environment, please rerun this cell to show the HTML representation or trust the notebook. <br />On GitHub, the HTML representation is unable to render, please try loading this page with nbviewer.org.</b></div><div class=\"sk-container\" hidden><div class=\"sk-item sk-dashed-wrapped\"><div class=\"sk-label-container\"><div class=\"sk-label fitted sk-toggleable\"><input class=\"sk-toggleable__control sk-hidden--visually\" id=\"sk-estimator-id-2\" type=\"checkbox\" ><label for=\"sk-estimator-id-2\" class=\"sk-toggleable__label fitted sk-toggleable__label-arrow\"><div><div>Pipeline</div></div><div><a class=\"sk-estimator-doc-link fitted\" rel=\"noreferrer\" target=\"_blank\" href=\"https://scikit-learn.org/1.6/modules/generated/sklearn.pipeline.Pipeline.html\">?<span>Documentation for Pipeline</span></a><span class=\"sk-estimator-doc-link fitted\">i<span>Fitted</span></span></div></label><div class=\"sk-toggleable__content fitted\"><pre>Pipeline(steps=[(&#x27;filtrar&#x27;,\n",
       "                 FunctionTransformer(func=&lt;function FiltrarDatos at 0x14179e040&gt;)),\n",
       "                (&#x27;scaler&#x27;, StandardScaler()), (&#x27;model&#x27;, LinearRegression())])</pre></div> </div></div><div class=\"sk-serial\"><div class=\"sk-item\"><div class=\"sk-estimator fitted sk-toggleable\"><input class=\"sk-toggleable__control sk-hidden--visually\" id=\"sk-estimator-id-3\" type=\"checkbox\" ><label for=\"sk-estimator-id-3\" class=\"sk-toggleable__label fitted sk-toggleable__label-arrow\"><div><div>FiltrarDatos</div><div class=\"caption\">FunctionTransformer</div></div><div><a class=\"sk-estimator-doc-link fitted\" rel=\"noreferrer\" target=\"_blank\" href=\"https://scikit-learn.org/1.6/modules/generated/sklearn.preprocessing.FunctionTransformer.html\">?<span>Documentation for FunctionTransformer</span></a></div></label><div class=\"sk-toggleable__content fitted\"><pre>FunctionTransformer(func=&lt;function FiltrarDatos at 0x14179e040&gt;)</pre></div> </div></div><div class=\"sk-item\"><div class=\"sk-estimator fitted sk-toggleable\"><input class=\"sk-toggleable__control sk-hidden--visually\" id=\"sk-estimator-id-4\" type=\"checkbox\" ><label for=\"sk-estimator-id-4\" class=\"sk-toggleable__label fitted sk-toggleable__label-arrow\"><div><div>StandardScaler</div></div><div><a class=\"sk-estimator-doc-link fitted\" rel=\"noreferrer\" target=\"_blank\" href=\"https://scikit-learn.org/1.6/modules/generated/sklearn.preprocessing.StandardScaler.html\">?<span>Documentation for StandardScaler</span></a></div></label><div class=\"sk-toggleable__content fitted\"><pre>StandardScaler()</pre></div> </div></div><div class=\"sk-item\"><div class=\"sk-estimator fitted sk-toggleable\"><input class=\"sk-toggleable__control sk-hidden--visually\" id=\"sk-estimator-id-5\" type=\"checkbox\" ><label for=\"sk-estimator-id-5\" class=\"sk-toggleable__label fitted sk-toggleable__label-arrow\"><div><div>LinearRegression</div></div><div><a class=\"sk-estimator-doc-link fitted\" rel=\"noreferrer\" target=\"_blank\" href=\"https://scikit-learn.org/1.6/modules/generated/sklearn.linear_model.LinearRegression.html\">?<span>Documentation for LinearRegression</span></a></div></label><div class=\"sk-toggleable__content fitted\"><pre>LinearRegression()</pre></div> </div></div></div></div></div></div>"
      ],
      "text/plain": [
       "Pipeline(steps=[('filtrar',\n",
       "                 FunctionTransformer(func=<function FiltrarDatos at 0x14179e040>)),\n",
       "                ('scaler', StandardScaler()), ('model', LinearRegression())])"
      ]
     },
     "execution_count": 57,
     "metadata": {},
     "output_type": "execute_result"
    }
   ],
   "source": [
    "pipeline.fit(X_train_pipeline, y_train_pipeline)"
   ]
  },
  {
   "cell_type": "markdown",
   "metadata": {},
   "source": [
    "Al normalizar las variables del modelo, no se observaron mejoras significativas en las métricas de error, como el MAE y RMSE. Sin embargo, la normalización sigue siendo beneficiosa, ya que facilita la comparación entre los coeficientes del modelo, permitiendo identificar cuáles variables tienen mayor impacto en la variable objetivo y mejorar la estabilidad numérica del modelo. Por lo tanto, aunque no mejora directamente el error en este caso, aporta ventajas en la interpretación y en la robustez del modelo."
   ]
  },
  {
   "cell_type": "code",
   "execution_count": 58,
   "metadata": {},
   "outputs": [
    {
     "name": "stdout",
     "output_type": "stream",
     "text": [
      "MAE:\n",
      "Train: 0.0676672047092924\n",
      "Test: 0.06872415529085248\n",
      "\n",
      "RMSE:\n",
      "Train: 0.19064940959021623\n",
      "Test: 0.1698040366538744\n",
      "\n",
      "R^2:\n",
      "Train: 0.7574509579486619\n",
      "Test: 0.7828453804206823\n"
     ]
    }
   ],
   "source": [
    "print(\"MAE:\")\n",
    "print(\"Train:\", mean_absolute_error(y_train_pipeline, pipeline.predict(X_train_pipeline)))\n",
    "print(\"Test:\", mean_absolute_error(y_test_pipeline, pipeline.predict(X_test_pipeline)))\n",
    "\n",
    "\n",
    "print(\"\\nRMSE:\")\n",
    "print(\"Train:\", np.sqrt(mean_squared_error(y_train_pipeline, pipeline.predict(X_train_pipeline))))\n",
    "print(\"Test:\", np.sqrt(mean_squared_error(y_test_pipeline, pipeline.predict(X_test_pipeline))))\n",
    "\n",
    "print(\"\\nR^2:\")\n",
    "print(\"Train:\", r2_score(y_train_pipeline, pipeline.predict(X_train_pipeline)))\n",
    "print(\"Test:\", r2_score(y_test_pipeline, pipeline.predict(X_test_pipeline)))\n"
   ]
  },
  {
   "cell_type": "markdown",
   "metadata": {},
   "source": [
    "### 6.1 Crear Modelo final con todos los datos\n",
    "Teniendo en cuenta que el modelo tiene buenas metricas se va a entrenar un mejor modelo esta vez ya usando todos los datos para que este mejor entrenado"
   ]
  },
  {
   "cell_type": "code",
   "execution_count": 59,
   "metadata": {},
   "outputs": [],
   "source": [
    "# Crear el pipeline con la función personalizada\n",
    "pipelineCompleto = Pipeline(\n",
    "    [\n",
    "        (\"filtrar\", filtrar_transformer),  # Paso para filtrar los datos\n",
    "        (\"scaler\", StandardScaler()),     # Escalar las características\n",
    "        (\"model\", LinearRegression())     # Modelo de regresión lineal\n",
    "    ]\n",
    ")\n"
   ]
  },
  {
   "cell_type": "code",
   "execution_count": 60,
   "metadata": {},
   "outputs": [
    {
     "data": {
      "text/plain": [
       "((4000, 18), (3983,))"
      ]
     },
     "execution_count": 60,
     "metadata": {},
     "output_type": "execute_result"
    }
   ],
   "source": [
    "pipelineCompleto.fit(train_data_original, train_data_original.drop_duplicates(keep='first')[\"redshift\"])\n",
    "train_data_original.shape, train_data_original.drop_duplicates(keep='first')[\"redshift\"].shape\n",
    "\n"
   ]
  },
  {
   "cell_type": "markdown",
   "metadata": {},
   "source": [
    "6.2 Conclusiones sobre las metricas del modelo completo "
   ]
  },
  {
   "cell_type": "code",
   "execution_count": 61,
   "metadata": {},
   "outputs": [
    {
     "name": "stdout",
     "output_type": "stream",
     "text": [
      "MAE: 0.06798431642030528\n",
      "RMSE: 0.18464255407880287\n",
      "R^2: 0.764444100085025\n"
     ]
    }
   ],
   "source": [
    "y_pipeline_completo = train_data_original.drop_duplicates(keep='first')[\"redshift\"]\n",
    "print(\"MAE:\", mean_absolute_error(y_pipeline_completo, pipeline.predict(train_data_original)))\n",
    "print(\"RMSE:\", np.sqrt(mean_squared_error(y_pipeline_completo, pipeline.predict(train_data_original))))\n",
    "print(\"R^2:\", r2_score(y_pipeline_completo, pipeline.predict(train_data_original)))"
   ]
  },
  {
   "cell_type": "code",
   "execution_count": 62,
   "metadata": {},
   "outputs": [
    {
     "data": {
      "text/plain": [
       "count    4000.000000\n",
       "mean        0.134015\n",
       "std         0.379742\n",
       "min        -0.003322\n",
       "25%         0.000106\n",
       "50%         0.032038\n",
       "75%         0.086479\n",
       "max         4.192597\n",
       "Name: redshift, dtype: float64"
      ]
     },
     "execution_count": 62,
     "metadata": {},
     "output_type": "execute_result"
    }
   ],
   "source": [
    "train_data_original[\"redshift\"].describe()"
   ]
  },
  {
   "cell_type": "markdown",
   "metadata": {},
   "source": [
    "\n",
    "Las métricas obtenidas indican un desempeño razonable del modelo en la mayoría de los casos. El MAE de aproximadamente 0.066 sugiere que, en promedio, el error en las predicciones es bajo, lo que es especialmente notable si se tiene en cuenta que la mediana del redshift es de 0.032 y el 75% de los valores se encuentran por debajo de 0.086. Esto implica que para la mayoría de los datos, en donde los valores de redshift son muy bajos, el modelo predice de forma precisa. Sin embargo, el RMSE de 0.18, superior al MAE, revela que existen algunos errores grandes, probablemente asociados a los pocos valores extremos (con un máximo de 4.19) que elevan el error cuadrático medio. En resumen, el modelo se desempeña bien en el rango predominante de datos, aunque podría mejorarse su capacidad para capturar adecuadamente los casos con redshift muy altos. Finalmente, el coeficiente de determinación 𝑅^2 (0.76) indica que el modelo es capaz de explicar aproximadamente el 76% de la varianza observada en el redshift. Este es un indicador positivo que muestra que el modelo tiene un buen nivel de ajuste y que la mayoría de las predicciones están alineadas con los valores reales, aunque aún existe un 24% de varianza no explicada que podría deberse a factores no capturados por las variables del modelo o ruido en los datos."
   ]
  },
  {
   "cell_type": "markdown",
   "metadata": {},
   "source": [
    "### Exportar predicciones de los datos de test"
   ]
  },
  {
   "cell_type": "code",
   "execution_count": null,
   "metadata": {},
   "outputs": [
    {
     "name": "stdout",
     "output_type": "stream",
     "text": [
      "El archivo 'predicciones_completas.csv' ha sido guardado exitosamente.\n"
     ]
    }
   ],
   "source": [
    "# Generar predicciones para el conjunto completo\n",
    "predicciones_completas = pipelineCompleto.predict(train_data_original.drop(columns=[\"redshift\"]))  # Asegúrate de excluir la variable objetivo\n",
    "\n",
    "# Crear un DataFrame con los valores reales y predichos\n",
    "resultados_completos = pd.DataFrame({\n",
    "    \"Actual\": y_pipeline_completo.values, \n",
    "    \"Predicted\": predicciones_completas\n",
    "})\n",
    "\n",
    "# Guardar en un archivo CSV\n",
    "resultados_completos.to_csv(\"predicciones_completas.csv\", index=False)\n",
    "\n",
    "print(\"El archivo 'predicciones_completas.csv' ha sido guardado exitosamente.\")"
   ]
  },
  {
   "cell_type": "markdown",
   "metadata": {},
   "source": [
    "### 6.3 Importar en formato .joblib"
   ]
  },
  {
   "cell_type": "markdown",
   "metadata": {},
   "source": [
    "Se exporta el pipeline entrenado en formato .joblib en el directorio actual"
   ]
  },
  {
   "cell_type": "code",
   "execution_count": 64,
   "metadata": {},
   "outputs": [
    {
     "name": "stdout",
     "output_type": "stream",
     "text": [
      "El pipeline ha sido exportado como 'pipeline_model.joblib' en el directorio actual\n"
     ]
    }
   ],
   "source": [
    "from joblib import dump\n",
    "\n",
    "# Exportar el pipeline entrenado en formato .joblib\n",
    "dump(pipelineCompleto, \"pipeline_model.joblib\")\n",
    "print(\"El pipeline ha sido exportado como 'pipeline_model.joblib' en el directorio actual\")"
   ]
  },
  {
   "cell_type": "markdown",
   "metadata": {},
   "source": [
    "Ejemplo de uso del pipeline exportado actual con los datos de validation_data"
   ]
  },
  {
   "cell_type": "code",
   "execution_count": 65,
   "metadata": {},
   "outputs": [
    {
     "name": "stdout",
     "output_type": "stream",
     "text": [
      "[ 0.01858623  0.00269551  0.07269449  0.09278628 -0.02402195]\n"
     ]
    }
   ],
   "source": [
    "# Cargar el pipeline desde el archivo\n",
    "loaded_pipeline = load(\"pipeline_model.joblib\")\n",
    "\n",
    "# Ahora puedes usarlo para hacer predicciones\n",
    "predictions = loaded_pipeline.predict(validation_data)\n",
    "\n",
    "# Ver las primeras predicciones\n",
    "print(predictions[:5])\n"
   ]
  },
  {
   "cell_type": "code",
   "execution_count": 66,
   "metadata": {},
   "outputs": [
    {
     "name": "stderr",
     "output_type": "stream",
     "text": [
      "/var/folders/6x/ddh0g_5x1n9bysm0_rz1s92r0000gn/T/ipykernel_63262/3159376098.py:8: UserWarning: FigureCanvasAgg is non-interactive, and thus cannot be shown\n",
      "  plt.show()\n"
     ]
    },
    {
     "name": "stdout",
     "output_type": "stream",
     "text": [
      "Medias de cada columna:\n",
      " ra            3.496520e-16\n",
      "dec           2.497514e-17\n",
      "u             1.560946e-15\n",
      "i            -4.495525e-16\n",
      "field         1.436071e-16\n",
      "score        -5.637246e-16\n",
      "clean        -1.962332e-16\n",
      "mjd           6.127829e-16\n",
      "rowv          3.567877e-18\n",
      "colv         -8.919693e-19\n",
      "class_QSO     7.314148e-17\n",
      "class_STAR    3.746271e-17\n",
      "camcol_2      3.746271e-17\n",
      "camcol_3      3.389483e-17\n",
      "camcol_4     -5.351816e-17\n",
      "camcol_5     -1.605545e-17\n",
      "camcol_6     -1.248757e-17\n",
      "dtype: float64\n",
      "\n",
      "Desviaciones estándar de cada columna:\n",
      " ra            1.000126\n",
      "dec           1.000126\n",
      "u             1.000126\n",
      "i             1.000126\n",
      "field         1.000126\n",
      "score         1.000126\n",
      "clean         1.000126\n",
      "mjd           1.000126\n",
      "rowv          1.000126\n",
      "colv          1.000126\n",
      "class_QSO     1.000126\n",
      "class_STAR    1.000126\n",
      "camcol_2      1.000126\n",
      "camcol_3      1.000126\n",
      "camcol_4      1.000126\n",
      "camcol_5      1.000126\n",
      "camcol_6      1.000126\n",
      "dtype: float64\n"
     ]
    },
    {
     "name": "stderr",
     "output_type": "stream",
     "text": [
      "/var/folders/6x/ddh0g_5x1n9bysm0_rz1s92r0000gn/T/ipykernel_63262/3159376098.py:16: UserWarning: FigureCanvasAgg is non-interactive, and thus cannot be shown\n",
      "  plt.show()\n"
     ]
    }
   ],
   "source": [
    "nose = FiltrarDatos(train_data_original)\n",
    "scaler = StandardScaler()\n",
    "nose_scaled = scaler.fit_transform(nose)\n",
    "correlation_matrix = pd.DataFrame(nose_scaled, columns=nose.columns).corr()\n",
    "plt.figure(figsize=(12, 10))\n",
    "sns.heatmap(correlation_matrix, cmap=\"Blues\", vmin=-1, vmax=1, annot=True)\n",
    "plt.title(\"Matriz de Correlaciones de nose_scaled\")\n",
    "plt.show()\n",
    "\n",
    "# Crear un DataFrame con los datos escalados\n",
    "nose_scaled_df = pd.DataFrame(nose_scaled, columns=nose.columns)\n",
    "\n",
    "# Graficar el histograma de los valores escalados\n",
    "nose_scaled_df.hist(figsize=(12, 10), bins=30)\n",
    "plt.suptitle(\"Histogramas de los valores escalados de nose_scaled\")\n",
    "plt.show()\n",
    "\n",
    "# Calcular las medias y desviaciones estándar de cada columna\n",
    "means = nose_scaled_df.mean()\n",
    "std_devs = nose_scaled_df.std()\n",
    "\n",
    "# Imprimir las medias y desviaciones estándar\n",
    "print(\"Medias de cada columna:\\n\", means)\n",
    "print(\"\\nDesviaciones estándar de cada columna:\\n\", std_devs)"
   ]
  },
  {
   "cell_type": "markdown",
   "metadata": {},
   "source": [
    "### 7. Comprobación de supuestos de la regresión"
   ]
  },
  {
   "cell_type": "markdown",
   "metadata": {},
   "source": [
    "#### 7.1 Colinealidad"
   ]
  },
  {
   "cell_type": "code",
   "execution_count": 67,
   "metadata": {},
   "outputs": [
    {
     "name": "stderr",
     "output_type": "stream",
     "text": [
      "/var/folders/6x/ddh0g_5x1n9bysm0_rz1s92r0000gn/T/ipykernel_63262/1431872368.py:13: UserWarning: FigureCanvasAgg is non-interactive, and thus cannot be shown\n",
      "  plt.show()\n"
     ]
    }
   ],
   "source": [
    "data_supuestos = FiltrarDatos(train_data_original)\n",
    "data_supuestos_numericos = data_supuestos.select_dtypes(include=[\"number\"])\n",
    "\n",
    "scaler = StandardScaler()\n",
    "# Eliminar la variable \"clean\" ya que es categorica\n",
    "if \"clean\" in data_supuestos_numericos.columns:\n",
    "    data_supuestos_numericos = data_supuestos_numericos.drop(columns=[\"clean\"])\n",
    "data_supuestos_escalados = scaler.fit_transform(data_supuestos_numericos)\n",
    "correlation_matrix = pd.DataFrame(data_supuestos_escalados, columns=data_supuestos_numericos.columns).corr()\n",
    "plt.figure(figsize=(12, 10))\n",
    "sns.heatmap(correlation_matrix, cmap=\"Blues\", vmin=-1, vmax=1, annot=True)\n",
    "plt.title(\"Matriz de Correlaciones de los datos numéricos escalados\")\n",
    "plt.show()\n"
   ]
  },
  {
   "cell_type": "markdown",
   "metadata": {},
   "source": [
    "En esta matríz de correlación se puede ver que en general se tienen relaciones muy baas entre las variables, por lo tanto se estaría cumpliendo el supuesto de colinealidad. En este caso las unicas variables que tienen una fuerte relacion son \"ra\" y \"field\" con una correlación de 0.78. En esta caso se podría pensar en eliminar una de las variables, sin embargo, al revisar el diccionario de las varibables consideramos que ambas son necesarias para la buena estimación de redshift. Esto sucede ya que el \"field\" ayuda a calcular el \"score\" y el \"ra\" brinda una coordenada relevante."
   ]
  },
  {
   "cell_type": "markdown",
   "metadata": {},
   "source": [
    "#### 7.2 Linealidad\n",
    "como se menciona en uno de los laboratioros encontrados en gitLab: \n",
    "\n",
    "Es necesario que la relación entre cada variable de entrada y la varable objetivo sea lineal."
   ]
  },
  {
   "cell_type": "code",
   "execution_count": 68,
   "metadata": {},
   "outputs": [
    {
     "name": "stderr",
     "output_type": "stream",
     "text": [
      "/Users/juanl/opt/anaconda3/envs/py39bi/lib/python3.9/site-packages/sklearn/linear_model/_base.py:279: RuntimeWarning: invalid value encountered in matmul\n",
      "  return X @ coef_ + self.intercept_\n"
     ]
    }
   ],
   "source": [
    "\n",
    "# Generar predicciones y convertirlas a DataFrame\n",
    "pred = pipelineCompleto.predict(train_data_original)\n",
    "pred_df = pd.DataFrame(pred, columns=[\"predictions\"])\n",
    "\n",
    "# Concatenar los datos escalados con las predicciones\n",
    "data_to_plot = pd.concat([nose_scaled_df, pred_df], axis=1)  \n",
    "\n",
    "# Definir el número de variables a mostrar por iteración\n",
    "num_vars = 4\n",
    "columnas = list(nose_scaled_df.columns)  # Extraer nombres de columnas\n",
    "\n",
    "# Generar gráficos por grupos de 4 variables\n",
    "for i in range(0, len(columnas), num_vars):\n",
    "    subset_vars = columnas[i:i+num_vars] + [\"predictions\"]\n",
    "    sns.pairplot(data_to_plot[subset_vars], height=4, y_vars=\"predictions\", kind=\"scatter\")"
   ]
  },
  {
   "cell_type": "markdown",
   "metadata": {},
   "source": [
    "Se observan agrupaciones de predicciones en ciertos rangos, lo que indica que el modelo puede estar ajustándose de manera discontinua o con sesgos en ciertas regiones del espacio de entrada. Además, la falta de linealidad en la relación entre variables sugiere que el modelo puede no estar representando correctamente la estructura subyacente de los datos. El histograma de predicciones muestra una distribución sesgada, lo que implica que el modelo puede estar generando valores en ciertos intervalos con poca variabilidad"
   ]
  },
  {
   "cell_type": "markdown",
   "metadata": {},
   "source": [
    "#### 7.3 Normalidad de errores"
   ]
  },
  {
   "cell_type": "code",
   "execution_count": 69,
   "metadata": {},
   "outputs": [],
   "source": [
    "errores = (pipelineCompleto.predict(train_data_original)- train_data_original.drop_duplicates(keep='first')[\"redshift\"])"
   ]
  },
  {
   "cell_type": "code",
   "execution_count": 70,
   "metadata": {},
   "outputs": [
    {
     "name": "stderr",
     "output_type": "stream",
     "text": [
      "/var/folders/6x/ddh0g_5x1n9bysm0_rz1s92r0000gn/T/ipykernel_63262/2227070497.py:3: UserWarning: FigureCanvasAgg is non-interactive, and thus cannot be shown\n",
      "  plt.show()\n"
     ]
    }
   ],
   "source": [
    "errores.hist(figsize=(6, 6), bins=30)\n",
    "plt.suptitle(\"Histogramas de los errores\")\n",
    "plt.show()"
   ]
  },
  {
   "cell_type": "code",
   "execution_count": 71,
   "metadata": {},
   "outputs": [
    {
     "name": "stderr",
     "output_type": "stream",
     "text": [
      "/var/folders/6x/ddh0g_5x1n9bysm0_rz1s92r0000gn/T/ipykernel_63262/3438261991.py:1: RuntimeWarning: More than 20 figures have been opened. Figures created through the pyplot interface (`matplotlib.pyplot.figure`) are retained until explicitly closed and may consume too much memory. (To control this warning, see the rcParam `figure.max_open_warning`). Consider using `matplotlib.pyplot.close()`.\n",
      "  fig, axes = plt.subplots(1, 2, figsize=(12, 4))\n"
     ]
    }
   ],
   "source": [
    "fig, axes = plt.subplots(1, 2, figsize=(12, 4))\n",
    "# Dispersión\n",
    "sns.scatterplot(x=pipelineCompleto.predict(train_data_original), y=errores, alpha=0.1, ax=axes[0])\n",
    "\n",
    "# q-q plot\n",
    "_ = stats.probplot(errores, dist=\"norm\", plot=axes[1])"
   ]
  },
  {
   "cell_type": "markdown",
   "metadata": {},
   "source": [
    "El análisis de la normalidad de los errores indica que estos están altamente concentrados alrededor de cero, con una dispersión reducida. Sin embargo, el Q-Q plot muestra que los errores no siguen una distribución normal, ya que se desvían significativamente en las colas, sugiriendo sesgo. Esto implica que la normalidad no se cumple completamente, lo que podría afectar la validez de las inferencias estadísticas en caso de que el modelo dependa de este supuesto."
   ]
  },
  {
   "cell_type": "markdown",
   "metadata": {},
   "source": [
    "#### 7.4 Varianza constante (Homoceasticidad)"
   ]
  },
  {
   "cell_type": "code",
   "execution_count": 72,
   "metadata": {},
   "outputs": [
    {
     "data": {
      "text/plain": [
       "<Axes: title={'center': 'Probability Plot'}, xlabel='Theoretical quantiles', ylabel='Ordered Values'>"
      ]
     },
     "execution_count": 72,
     "metadata": {},
     "output_type": "execute_result"
    }
   ],
   "source": [
    "sns.scatterplot(x=pipelineCompleto.predict(train_data_original), y=errores, alpha=0.1,)\n"
   ]
  },
  {
   "cell_type": "markdown",
   "metadata": {},
   "source": [
    "El gráfico de dispersión sugiere la presencia de heterocedasticidad, ya que la varianza de los errores no es constante a lo largo de los valores predichos. Se observa una mayor concentración de puntos en ciertos rangos, lo que indica que el modelo podría estar cometiendo errores sistemáticos dependiendo del valor predicho. Esto puede afectar la eficiencia de los estimadores y la validez de las inferencias estadísticas. "
   ]
  },
  {
   "cell_type": "markdown",
   "metadata": {},
   "source": [
    "#### Transofrmación logaritmica "
   ]
  },
  {
   "cell_type": "markdown",
   "metadata": {},
   "source": [
    "#### realizando otra vez la linealidad"
   ]
  },
  {
   "cell_type": "code",
   "execution_count": 73,
   "metadata": {},
   "outputs": [
    {
     "name": "stderr",
     "output_type": "stream",
     "text": [
      "/Users/juanl/opt/anaconda3/envs/py39bi/lib/python3.9/site-packages/pandas/core/internals/blocks.py:393: RuntimeWarning: invalid value encountered in log1p\n",
      "  result = func(self.values, **kwargs)\n",
      "/var/folders/6x/ddh0g_5x1n9bysm0_rz1s92r0000gn/T/ipykernel_63262/1394072616.py:26: UserWarning: FigureCanvasAgg is non-interactive, and thus cannot be shown\n",
      "  plt.show()\n"
     ]
    }
   ],
   "source": [
    "# Generar predicciones y convertirlas a DataFrame\n",
    "pred = pipelineCompleto.predict(train_data_original)\n",
    "pred_df = pd.DataFrame(pred, columns=[\"predictions\"])\n",
    "\n",
    "# Copiar los datos escalados y aplicar transformación manual (logarítmica + estandarización)\n",
    "nose_scaled_df_transformed = nose_scaled_df.copy()\n",
    "\n",
    "# Aplicar transformación logarítmica a las variables predictoras (sumamos 1 para evitar log(0))\n",
    "nose_scaled_df_transformed = np.log1p(nose_scaled_df_transformed)\n",
    "\n",
    "# Estandarizar manualmente (Z-score normalization)\n",
    "nose_scaled_df_transformed = (nose_scaled_df_transformed - nose_scaled_df_transformed.mean()) / nose_scaled_df_transformed.std()\n",
    "\n",
    "# Concatenar los datos transformados con las predicciones\n",
    "data_to_plot = pd.concat([nose_scaled_df_transformed, pred_df], axis=1)  \n",
    "\n",
    "# Definir el número de variables a mostrar por iteración\n",
    "num_vars = 4\n",
    "columnas = list(nose_scaled_df_transformed.columns)  # Extraer nombres de columnas\n",
    "\n",
    "# Generar gráficos por grupos de 4 variables\n",
    "for i in range(0, len(columnas), num_vars):\n",
    "    subset_vars = columnas[i:i+num_vars] + [\"predictions\"]\n",
    "    sns.pairplot(data_to_plot[subset_vars], height=4, y_vars=\"predictions\", kind=\"scatter\")\n",
    "\n",
    "plt.show()\n"
   ]
  },
  {
   "cell_type": "markdown",
   "metadata": {},
   "source": [
    "La transformación logarítmica (log1p) ha mejorado la linealidad, reduciendo la segmentación en las predicciones y haciendo la relación entre variables más continua. El histograma muestra una distribución más concentrada, con menor dispersión extrema, lo que indica un mejor manejo de la variabilidad en los datos."
   ]
  },
  {
   "cell_type": "markdown",
   "metadata": {},
   "source": [
    "### Interpretación de los coeficeintes"
   ]
  },
  {
   "cell_type": "code",
   "execution_count": 74,
   "metadata": {},
   "outputs": [
    {
     "name": "stderr",
     "output_type": "stream",
     "text": [
      "/var/folders/6x/ddh0g_5x1n9bysm0_rz1s92r0000gn/T/ipykernel_63262/3627768771.py:20: UserWarning: FigureCanvasAgg is non-interactive, and thus cannot be shown\n",
      "  plt.show()\n"
     ]
    }
   ],
   "source": [
    "# Extraer los coeficientes usando el nombre correcto del modelo en el pipeline\n",
    "coeficientes = pipelineCompleto.named_steps['model'].coef_\n",
    "\n",
    "# Crear un DataFrame con los coeficientes y las variables predictoras\n",
    "coef_df = pd.DataFrame({\n",
    "    \"Variable\": nose_scaled_df_transformed.columns,\n",
    "    \"Coeficiente\": coeficientes\n",
    "})\n",
    "\n",
    "# Ordenar los coeficientes en orden descendente de magnitud\n",
    "coef_df = coef_df.sort_values(by=\"Coeficiente\", ascending=False)\n",
    "\n",
    "# Gráfico de los coeficientes\n",
    "plt.figure(figsize=(12, 6))\n",
    "plt.barh(coef_df[\"Variable\"], coef_df[\"Coeficiente\"], color=np.where(coef_df[\"Coeficiente\"] > 0, \"blue\", \"red\"))\n",
    "plt.xlabel(\"Valor del Coeficiente\")\n",
    "plt.ylabel(\"Variable\")\n",
    "plt.title(\"Análisis de Coeficientes del Modelo\")\n",
    "plt.axvline(x=0, color='black', linestyle='--')  # Línea de referencia en 0\n",
    "plt.show()\n"
   ]
  },
  {
   "cell_type": "markdown",
   "metadata": {},
   "source": [
    "El modelo de regresión lineal muestra que la variable class_QSO tiene el coeficiente más alto, lo que indica que tiene el mayor impacto positivo en la predicción. Esto sugiere que esta variable está fuertemente relacionada con el valor objetivo (redshift). Por otro lado, la variable class_STAR presenta un coeficiente negativo significativo, lo que implica que su presencia reduce el valor predicho.\n",
    "\n",
    "Otras variables como mjd, i y camcol_2 también tienen un impacto positivo en menor medida, mientras que ra, score y rowy afectan negativamente pero con menor magnitud. En general, el modelo está asignando pesos razonables a las variables, reflejando su influencia en la predicción. Sin embargo, si algunos coeficientes son demasiado pequeños, podrían indicar que ciertas variables no aportan información relevante y podrían eliminarse para simplificar el modelo"
   ]
  }
 ],
 "metadata": {
  "kernelspec": {
   "display_name": "py39bi",
   "language": "python",
   "name": "python3"
  },
  "language_info": {
   "codemirror_mode": {
    "name": "ipython",
    "version": 3
   },
   "file_extension": ".py",
   "mimetype": "text/x-python",
   "name": "python",
   "nbconvert_exporter": "python",
   "pygments_lexer": "ipython3",
   "version": "3.9.21"
  }
 },
 "nbformat": 4,
 "nbformat_minor": 2
}
